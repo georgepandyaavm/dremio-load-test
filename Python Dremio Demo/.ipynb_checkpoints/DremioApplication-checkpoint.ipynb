{
 "cells": [
  {
   "cell_type": "code",
   "execution_count": 1,
   "id": "2399568a-4b30-4c39-8034-a93efa947bef",
   "metadata": {
    "tags": []
   },
   "outputs": [],
   "source": [
    "import os\n",
    "\n",
    "import atoti as tt"
   ]
  },
  {
   "cell_type": "code",
   "execution_count": 2,
   "id": "1fd36b55-fdbf-40da-a8a2-fa3eea299dac",
   "metadata": {
    "tags": []
   },
   "outputs": [
    {
     "data": {
      "text/plain": [
       "'0.8.10'"
      ]
     },
     "execution_count": 2,
     "metadata": {},
     "output_type": "execute_result"
    }
   ],
   "source": [
    "tt._version.VERSION"
   ]
  },
  {
   "cell_type": "code",
   "execution_count": 3,
   "id": "624f2cd6-9ac4-47db-94bb-c582369b1213",
   "metadata": {
    "tags": []
   },
   "outputs": [
    {
     "ename": "RuntimeError",
     "evalue": "An error occurred while starting the session. The logs are available at logging/server.log",
     "output_type": "error",
     "traceback": [
      "\u001b[0;31m---------------------------------------------------------------------------\u001b[0m",
      "\u001b[0;31mPy4JJavaError\u001b[0m                             Traceback (most recent call last)",
      "File \u001b[0;32m~/anaconda3/lib/python3.11/site-packages/atoti/_local_session.py:242\u001b[0m, in \u001b[0;36mLocalSession.__init__\u001b[0;34m(self, address, config, distributed, enable_py4j_auth, license_key, name, plugins, py4j_server_port, start_application, wrap_start_error)\u001b[0m\n\u001b[1;32m    241\u001b[0m \u001b[38;5;28;01mtry\u001b[39;00m:\n\u001b[0;32m--> 242\u001b[0m     \u001b[38;5;28mself\u001b[39m\u001b[38;5;241m.\u001b[39m_start_application()\n\u001b[1;32m    243\u001b[0m \u001b[38;5;28;01mexcept\u001b[39;00m Py4JError \u001b[38;5;28;01mas\u001b[39;00m error:\n",
      "File \u001b[0;32m~/anaconda3/lib/python3.11/site-packages/atoti/_local_session.py:314\u001b[0m, in \u001b[0;36mLocalSession._start_application\u001b[0;34m(self)\u001b[0m\n\u001b[1;32m    313\u001b[0m \u001b[38;5;28;01mdef\u001b[39;00m \u001b[38;5;21m_start_application\u001b[39m(\u001b[38;5;28mself\u001b[39m) \u001b[38;5;241m-\u001b[39m\u001b[38;5;241m>\u001b[39m \u001b[38;5;28;01mNone\u001b[39;00m:\n\u001b[0;32m--> 314\u001b[0m     \u001b[38;5;28mself\u001b[39m\u001b[38;5;241m.\u001b[39m_java_api\u001b[38;5;241m.\u001b[39mstart_application(\u001b[38;5;28mself\u001b[39m\u001b[38;5;241m.\u001b[39m_config)\n",
      "File \u001b[0;32m~/anaconda3/lib/python3.11/site-packages/atoti/_java_api.py:419\u001b[0m, in \u001b[0;36mJavaApi.start_application\u001b[0;34m(self, config)\u001b[0m\n\u001b[1;32m    415\u001b[0m json_config \u001b[38;5;241m=\u001b[39m RootModel[SessionConfig](config)\u001b[38;5;241m.\u001b[39mmodel_dump_json(\n\u001b[1;32m    416\u001b[0m     \u001b[38;5;66;03m# Remove keys for which the value is `None` (e.g. deprecated properties).\u001b[39;00m\n\u001b[1;32m    417\u001b[0m     exclude_none\u001b[38;5;241m=\u001b[39m\u001b[38;5;28;01mTrue\u001b[39;00m\n\u001b[1;32m    418\u001b[0m )\n\u001b[0;32m--> 419\u001b[0m \u001b[38;5;28mself\u001b[39m\u001b[38;5;241m.\u001b[39mjava_session\u001b[38;5;241m.\u001b[39mstartServer(json_config)\n",
      "File \u001b[0;32m~/anaconda3/lib/python3.11/site-packages/py4j/java_gateway.py:1322\u001b[0m, in \u001b[0;36mJavaMember.__call__\u001b[0;34m(self, *args)\u001b[0m\n\u001b[1;32m   1321\u001b[0m answer \u001b[38;5;241m=\u001b[39m \u001b[38;5;28mself\u001b[39m\u001b[38;5;241m.\u001b[39mgateway_client\u001b[38;5;241m.\u001b[39msend_command(command)\n\u001b[0;32m-> 1322\u001b[0m return_value \u001b[38;5;241m=\u001b[39m get_return_value(\n\u001b[1;32m   1323\u001b[0m     answer, \u001b[38;5;28mself\u001b[39m\u001b[38;5;241m.\u001b[39mgateway_client, \u001b[38;5;28mself\u001b[39m\u001b[38;5;241m.\u001b[39mtarget_id, \u001b[38;5;28mself\u001b[39m\u001b[38;5;241m.\u001b[39mname)\n\u001b[1;32m   1325\u001b[0m \u001b[38;5;28;01mfor\u001b[39;00m temp_arg \u001b[38;5;129;01min\u001b[39;00m temp_args:\n",
      "File \u001b[0;32m~/anaconda3/lib/python3.11/site-packages/py4j/protocol.py:326\u001b[0m, in \u001b[0;36mget_return_value\u001b[0;34m(answer, gateway_client, target_id, name)\u001b[0m\n\u001b[1;32m    325\u001b[0m \u001b[38;5;28;01mif\u001b[39;00m answer[\u001b[38;5;241m1\u001b[39m] \u001b[38;5;241m==\u001b[39m REFERENCE_TYPE:\n\u001b[0;32m--> 326\u001b[0m     \u001b[38;5;28;01mraise\u001b[39;00m Py4JJavaError(\n\u001b[1;32m    327\u001b[0m         \u001b[38;5;124m\"\u001b[39m\u001b[38;5;124mAn error occurred while calling \u001b[39m\u001b[38;5;132;01m{0}\u001b[39;00m\u001b[38;5;132;01m{1}\u001b[39;00m\u001b[38;5;132;01m{2}\u001b[39;00m\u001b[38;5;124m.\u001b[39m\u001b[38;5;130;01m\\n\u001b[39;00m\u001b[38;5;124m\"\u001b[39m\u001b[38;5;241m.\u001b[39m\n\u001b[1;32m    328\u001b[0m         \u001b[38;5;28mformat\u001b[39m(target_id, \u001b[38;5;124m\"\u001b[39m\u001b[38;5;124m.\u001b[39m\u001b[38;5;124m\"\u001b[39m, name), value)\n\u001b[1;32m    329\u001b[0m \u001b[38;5;28;01melse\u001b[39;00m:\n",
      "\u001b[0;31mPy4JJavaError\u001b[0m: An error occurred while calling t.startServer.\n: java.lang.IllegalArgumentException: LoggerFactory is not a Logback LoggerContext but Logback is on the classpath. Either remove Logback or the competing implementation (class org.slf4j.helpers.NOPLoggerFactory loaded from file:/Users/gpadya/Documents/Dremio%20Demo/utilities/extra_jars/dremio-driver-1.0-SNAPSHOT-jar-with-dependencies.jar). If you are using WebLogic you will need to add 'org.slf4j' to prefer-application-packages in WEB-INF/weblogic.xml: org.slf4j.helpers.NOPLoggerFactory\n\tat org.springframework.util.Assert.instanceCheckFailed(Assert.java:592)\n\tat org.springframework.util.Assert.isInstanceOf(Assert.java:511)\n\tat org.springframework.boot.logging.logback.LogbackLoggingSystem.getLoggerContext(LogbackLoggingSystem.java:396)\n\tat org.springframework.boot.logging.logback.LogbackLoggingSystem.beforeInitialize(LogbackLoggingSystem.java:124)\n\tat org.springframework.boot.context.logging.LoggingApplicationListener.onApplicationStartingEvent(LoggingApplicationListener.java:238)\n\tat org.springframework.boot.context.logging.LoggingApplicationListener.onApplicationEvent(LoggingApplicationListener.java:220)\n\tat org.springframework.context.event.SimpleApplicationEventMulticaster.doInvokeListener(SimpleApplicationEventMulticaster.java:185)\n\tat org.springframework.context.event.SimpleApplicationEventMulticaster.invokeListener(SimpleApplicationEventMulticaster.java:178)\n\tat org.springframework.context.event.SimpleApplicationEventMulticaster.multicastEvent(SimpleApplicationEventMulticaster.java:156)\n\tat org.springframework.context.event.SimpleApplicationEventMulticaster.multicastEvent(SimpleApplicationEventMulticaster.java:138)\n\tat org.springframework.boot.context.event.EventPublishingRunListener.multicastInitialEvent(EventPublishingRunListener.java:136)\n\tat org.springframework.boot.context.event.EventPublishingRunListener.starting(EventPublishingRunListener.java:75)\n\tat org.springframework.boot.SpringApplicationRunListeners.lambda$starting$0(SpringApplicationRunListeners.java:54)\n\tat java.base/java.lang.Iterable.forEach(Iterable.java:75)\n\tat org.springframework.boot.SpringApplicationRunListeners.doWithListeners(SpringApplicationRunListeners.java:118)\n\tat org.springframework.boot.SpringApplicationRunListeners.starting(SpringApplicationRunListeners.java:54)\n\tat org.springframework.boot.SpringApplication.run(SpringApplication.java:326)\n\tat org.springframework.boot.builder.SpringApplicationBuilder.run(SpringApplicationBuilder.java:149)\n\tat io.atoti.util.impl.ServerUtils.startApplication(ServerUtils.java:68)\n\tat io.atoti.ServerManager.startServer(ServerManager.java:59)\n\tat io.atoti.SessionImpl.startServer(SessionImpl.java:196)\n\tat java.base/jdk.internal.reflect.NativeMethodAccessorImpl.invoke0(Native Method)\n\tat java.base/jdk.internal.reflect.NativeMethodAccessorImpl.invoke(NativeMethodAccessorImpl.java:77)\n\tat java.base/jdk.internal.reflect.DelegatingMethodAccessorImpl.invoke(DelegatingMethodAccessorImpl.java:43)\n\tat java.base/java.lang.reflect.Method.invoke(Method.java:568)\n\tat py4j.reflection.MethodInvoker.invoke(MethodInvoker.java:244)\n\tat py4j.reflection.ReflectionEngine.invoke(ReflectionEngine.java:357)\n\tat py4j.Gateway.invoke(Gateway.java:282)\n\tat py4j.commands.AbstractCommand.invokeMethod(AbstractCommand.java:132)\n\tat py4j.commands.CallCommand.execute(CallCommand.java:79)\n\tat py4j.ClientServerConnection.waitForCommands(ClientServerConnection.java:182)\n\tat py4j.ClientServerConnection.run(ClientServerConnection.java:106)\n\tat java.base/java.lang.Thread.run(Thread.java:840)\n",
      "\nThe above exception was the direct cause of the following exception:\n",
      "\u001b[0;31mRuntimeError\u001b[0m                              Traceback (most recent call last)",
      "Cell \u001b[0;32mIn[3], line 2\u001b[0m\n\u001b[1;32m      1\u001b[0m jar \u001b[38;5;241m=\u001b[39m \u001b[38;5;124m\"\u001b[39m\u001b[38;5;124mdremio-driver-1.0-SNAPSHOT-jar-with-dependencies.jar\u001b[39m\u001b[38;5;124m\"\u001b[39m\n\u001b[0;32m----> 2\u001b[0m session \u001b[38;5;241m=\u001b[39m tt\u001b[38;5;241m.\u001b[39mSession(\n\u001b[1;32m      3\u001b[0m     port\u001b[38;5;241m=\u001b[39m\u001b[38;5;241m9092\u001b[39m,\n\u001b[1;32m      4\u001b[0m     user_content_storage \u001b[38;5;241m=\u001b[39m \u001b[38;5;124m\"\u001b[39m\u001b[38;5;124m./content\u001b[39m\u001b[38;5;124m\"\u001b[39m,\n\u001b[1;32m      5\u001b[0m     extra_jars\u001b[38;5;241m=\u001b[39m[\n\u001b[1;32m      6\u001b[0m         \u001b[38;5;124mf\u001b[39m\u001b[38;5;124m\"\u001b[39m\u001b[38;5;124m./utilities/extra_jars/\u001b[39m\u001b[38;5;132;01m{\u001b[39;00mjar\u001b[38;5;132;01m}\u001b[39;00m\u001b[38;5;124m\"\u001b[39m \n\u001b[1;32m      7\u001b[0m         \n\u001b[1;32m      8\u001b[0m     ],\n\u001b[1;32m      9\u001b[0m     \u001b[38;5;66;03m# app_extensions=tt.ADVANCED_APP_EXTENSION,\u001b[39;00m\n\u001b[1;32m     10\u001b[0m     logging\u001b[38;5;241m=\u001b[39mtt\u001b[38;5;241m.\u001b[39mLoggingConfig(destination\u001b[38;5;241m=\u001b[39m\u001b[38;5;124m\"\u001b[39m\u001b[38;5;124m./logging/server.log\u001b[39m\u001b[38;5;124m\"\u001b[39m)\n\u001b[1;32m     11\u001b[0m )\n",
      "File \u001b[0;32m~/anaconda3/lib/python3.11/site-packages/pydantic/validate_call_decorator.py:58\u001b[0m, in \u001b[0;36mvalidate_call.<locals>.validate.<locals>.wrapper_function\u001b[0;34m(*args, **kwargs)\u001b[0m\n\u001b[1;32m     56\u001b[0m \u001b[38;5;129m@functools\u001b[39m\u001b[38;5;241m.\u001b[39mwraps(function)\n\u001b[1;32m     57\u001b[0m \u001b[38;5;28;01mdef\u001b[39;00m \u001b[38;5;21mwrapper_function\u001b[39m(\u001b[38;5;241m*\u001b[39margs, \u001b[38;5;241m*\u001b[39m\u001b[38;5;241m*\u001b[39mkwargs):\n\u001b[0;32m---> 58\u001b[0m     \u001b[38;5;28;01mreturn\u001b[39;00m validate_call_wrapper(\u001b[38;5;241m*\u001b[39margs, \u001b[38;5;241m*\u001b[39m\u001b[38;5;241m*\u001b[39mkwargs)\n",
      "File \u001b[0;32m~/anaconda3/lib/python3.11/site-packages/pydantic/_internal/_validate_call.py:81\u001b[0m, in \u001b[0;36mValidateCallWrapper.__call__\u001b[0;34m(self, *args, **kwargs)\u001b[0m\n\u001b[1;32m     80\u001b[0m \u001b[38;5;28;01mdef\u001b[39;00m \u001b[38;5;21m__call__\u001b[39m(\u001b[38;5;28mself\u001b[39m, \u001b[38;5;241m*\u001b[39margs: Any, \u001b[38;5;241m*\u001b[39m\u001b[38;5;241m*\u001b[39mkwargs: Any) \u001b[38;5;241m-\u001b[39m\u001b[38;5;241m>\u001b[39m Any:\n\u001b[0;32m---> 81\u001b[0m     res \u001b[38;5;241m=\u001b[39m \u001b[38;5;28mself\u001b[39m\u001b[38;5;241m.\u001b[39m__pydantic_validator__\u001b[38;5;241m.\u001b[39mvalidate_python(pydantic_core\u001b[38;5;241m.\u001b[39mArgsKwargs(args, kwargs))\n\u001b[1;32m     82\u001b[0m     \u001b[38;5;28;01mif\u001b[39;00m \u001b[38;5;28mself\u001b[39m\u001b[38;5;241m.\u001b[39m__return_pydantic_validator__:\n\u001b[1;32m     83\u001b[0m         \u001b[38;5;28;01mreturn\u001b[39;00m \u001b[38;5;28mself\u001b[39m\u001b[38;5;241m.\u001b[39m__return_pydantic_validator__(res)\n",
      "File \u001b[0;32m~/anaconda3/lib/python3.11/site-packages/atoti/session.py:268\u001b[0m, in \u001b[0;36mSession.__init__\u001b[0;34m(self, name, app_extensions, authentication, branding, client_certificate, extra_jars, https, i18n, java_options, jwt, logging, port, ready, same_site, user_content_storage, **kwargs)\u001b[0m\n\u001b[1;32m    243\u001b[0m \u001b[38;5;28;01mif\u001b[39;00m private_parameters\u001b[38;5;241m.\u001b[39mstart_application:\n\u001b[1;32m    244\u001b[0m     config \u001b[38;5;241m=\u001b[39m private_parameters\u001b[38;5;241m.\u001b[39mconfig \u001b[38;5;129;01mor\u001b[39;00m SessionConfig(\n\u001b[1;32m    245\u001b[0m         app_extensions\u001b[38;5;241m=\u001b[39mapp_extensions,\n\u001b[1;32m    246\u001b[0m         authentication\u001b[38;5;241m=\u001b[39mcreate_authentication_config(authentication)\n\u001b[0;32m   (...)\u001b[0m\n\u001b[1;32m    265\u001b[0m         \u001b[38;5;28;01melse\u001b[39;00m user_content_storage,\n\u001b[1;32m    266\u001b[0m     )\n\u001b[0;32m--> 268\u001b[0m     \u001b[38;5;28msuper\u001b[39m()\u001b[38;5;241m.\u001b[39m\u001b[38;5;21m__init__\u001b[39m(\n\u001b[1;32m    269\u001b[0m         address\u001b[38;5;241m=\u001b[39mprivate_parameters\u001b[38;5;241m.\u001b[39maddress,\n\u001b[1;32m    270\u001b[0m         config\u001b[38;5;241m=\u001b[39mconfig,\n\u001b[1;32m    271\u001b[0m         distributed\u001b[38;5;241m=\u001b[39m\u001b[38;5;28;01mFalse\u001b[39;00m,\n\u001b[1;32m    272\u001b[0m         enable_py4j_auth\u001b[38;5;241m=\u001b[39mprivate_parameters\u001b[38;5;241m.\u001b[39menable_py4j_auth,\n\u001b[1;32m    273\u001b[0m         license_key\u001b[38;5;241m=\u001b[39mprivate_parameters\u001b[38;5;241m.\u001b[39mlicense_key,\n\u001b[1;32m    274\u001b[0m         name\u001b[38;5;241m=\u001b[39mname,\n\u001b[1;32m    275\u001b[0m         plugins\u001b[38;5;241m=\u001b[39mprivate_parameters\u001b[38;5;241m.\u001b[39mplugins,\n\u001b[1;32m    276\u001b[0m         py4j_server_port\u001b[38;5;241m=\u001b[39mprivate_parameters\u001b[38;5;241m.\u001b[39mpy4j_server_port,\n\u001b[1;32m    277\u001b[0m         start_application\u001b[38;5;241m=\u001b[39mprivate_parameters\u001b[38;5;241m.\u001b[39mstart_application,\n\u001b[1;32m    278\u001b[0m         wrap_start_error\u001b[38;5;241m=\u001b[39mprivate_parameters\u001b[38;5;241m.\u001b[39mwrap_start_error,\n\u001b[1;32m    279\u001b[0m     )\n\u001b[1;32m    280\u001b[0m \u001b[38;5;28;01melse\u001b[39;00m:\n\u001b[1;32m    281\u001b[0m     \u001b[38;5;28msuper\u001b[39m()\u001b[38;5;241m.\u001b[39m\u001b[38;5;21m__init__\u001b[39m(\n\u001b[1;32m    282\u001b[0m         name\u001b[38;5;241m=\u001b[39mname,\n\u001b[1;32m    283\u001b[0m         address\u001b[38;5;241m=\u001b[39mprivate_parameters\u001b[38;5;241m.\u001b[39maddress,\n\u001b[0;32m   (...)\u001b[0m\n\u001b[1;32m    291\u001b[0m         wrap_start_error\u001b[38;5;241m=\u001b[39mprivate_parameters\u001b[38;5;241m.\u001b[39mwrap_start_error,\n\u001b[1;32m    292\u001b[0m     )\n",
      "File \u001b[0;32m~/anaconda3/lib/python3.11/site-packages/atoti/_local_session.py:244\u001b[0m, in \u001b[0;36mLocalSession.__init__\u001b[0;34m(self, address, config, distributed, enable_py4j_auth, license_key, name, plugins, py4j_server_port, start_application, wrap_start_error)\u001b[0m\n\u001b[1;32m    242\u001b[0m         \u001b[38;5;28mself\u001b[39m\u001b[38;5;241m.\u001b[39m_start_application()\n\u001b[1;32m    243\u001b[0m     \u001b[38;5;28;01mexcept\u001b[39;00m Py4JError \u001b[38;5;28;01mas\u001b[39;00m error:\n\u001b[0;32m--> 244\u001b[0m         \u001b[38;5;28;01mraise\u001b[39;00m \u001b[38;5;167;01mRuntimeError\u001b[39;00m(\n\u001b[1;32m    245\u001b[0m             \u001b[38;5;124mf\u001b[39m\u001b[38;5;124m\"\u001b[39m\u001b[38;5;124mAn error occurred while starting the session. The logs are available at \u001b[39m\u001b[38;5;132;01m{\u001b[39;00m\u001b[38;5;28mself\u001b[39m\u001b[38;5;241m.\u001b[39mlogs_path\u001b[38;5;132;01m}\u001b[39;00m\u001b[38;5;124m\"\u001b[39m\n\u001b[1;32m    246\u001b[0m         ) \u001b[38;5;28;01mfrom\u001b[39;00m \u001b[38;5;21;01merror\u001b[39;00m\n\u001b[1;32m    247\u001b[0m \u001b[38;5;28;01melse\u001b[39;00m:\n\u001b[1;32m    248\u001b[0m     \u001b[38;5;28mself\u001b[39m\u001b[38;5;241m.\u001b[39m_start_application()\n",
      "\u001b[0;31mRuntimeError\u001b[0m: An error occurred while starting the session. The logs are available at logging/server.log"
     ]
    }
   ],
   "source": [
    "jar = \"dremio-driver-1.0-SNAPSHOT-jar-with-dependencies.jar\"\n",
    "session = tt.Session(\n",
    "    port=9092,\n",
    "    user_content_storage = \"./content\",\n",
    "    extra_jars=[\n",
    "        f\"./utilities/extra_jars/{jar}\" \n",
    "        \n",
    "    ],\n",
    "    # app_extensions=tt.ADVANCED_APP_EXTENSION,\n",
    "    logging=tt.LoggingConfig(destination=\"./logging/server.log\")\n",
    ")"
   ]
  },
  {
   "cell_type": "code",
   "execution_count": 5,
   "id": "760dab1d-f68d-4e4a-a99b-fae7d49bf64e",
   "metadata": {
    "tags": []
   },
   "outputs": [],
   "source": [
    "schema_name='\"@admin\"'\n",
    "db_table_name='\"0_0_1\"'\n",
    "sql = f\"SELECT * FROM {schema_name}.{db_table_name}\""
   ]
  },
  {
   "cell_type": "code",
   "execution_count": null,
   "id": "27c5ec24-7f34-4413-981a-a1f0cb9cf372",
   "metadata": {
    "tags": []
   },
   "outputs": [],
   "source": [
    "# url=\"jdbc:dremio:direct=localhost:31010;USER=admin;PASSWORD=admin\"\n",
    "url = \"jdbc:arrow-flight-sql://localhost:32010?user=admin&password=admin\"\n",
    "driver=\"org.apache.arrow.driver.jdbc.ArrowFlightJdbcDriver\"\n",
    "atoti_table_name=\"dremio_sample\""
   ]
  },
  {
   "cell_type": "code",
   "execution_count": null,
   "id": "7420e357-1e2d-4f61-93ec-b4672ccf0a27",
   "metadata": {},
   "outputs": [],
   "source": [
    "session.read_sql(sql,\n",
    "                url=url, \n",
    "                driver=driver,\n",
    "                table_name=atoti_table_name\n",
    "                 )"
   ]
  },
  {
   "cell_type": "code",
   "execution_count": null,
   "id": "9bc7795b-3279-40a7-b1ce-f449eacad957",
   "metadata": {},
   "outputs": [],
   "source": []
  }
 ],
 "metadata": {
  "kernelspec": {
   "display_name": "Python 3 (ipykernel)",
   "language": "python",
   "name": "python3"
  },
  "language_info": {
   "codemirror_mode": {
    "name": "ipython",
    "version": 3
   },
   "file_extension": ".py",
   "mimetype": "text/x-python",
   "name": "python",
   "nbconvert_exporter": "python",
   "pygments_lexer": "ipython3",
   "version": "3.11.4"
  }
 },
 "nbformat": 4,
 "nbformat_minor": 5
}
