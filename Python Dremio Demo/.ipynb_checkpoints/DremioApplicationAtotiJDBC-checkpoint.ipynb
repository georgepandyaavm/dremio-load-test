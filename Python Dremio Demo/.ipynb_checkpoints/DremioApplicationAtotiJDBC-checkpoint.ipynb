{
 "cells": [
  {
   "cell_type": "code",
   "execution_count": 1,
   "id": "2399568a-4b30-4c39-8034-a93efa947bef",
   "metadata": {
    "tags": []
   },
   "outputs": [],
   "source": [
    "import os\n",
    "import sys\n",
    "import atoti as tt"
   ]
  },
  {
   "cell_type": "code",
   "execution_count": 2,
   "id": "1fd36b55-fdbf-40da-a8a2-fa3eea299dac",
   "metadata": {
    "tags": []
   },
   "outputs": [
    {
     "data": {
      "text/plain": [
       "'0.8.6'"
      ]
     },
     "execution_count": 2,
     "metadata": {},
     "output_type": "execute_result"
    }
   ],
   "source": [
    "tt._version.VERSION"
   ]
  },
  {
   "cell_type": "code",
   "execution_count": 3,
   "id": "8314f653-ee30-42a0-b870-bd6c63e5e9b4",
   "metadata": {},
   "outputs": [],
   "source": [
    "dremio_driver_customized_jar = \"dremio-driver-1.0-SNAPSHOT-jar-with-dependencies.jar\"\n",
    "dremio_driver_legacy_jar = \"dremio-jdbc-driver-1.0.8-201707190805180330-27f36e1.jar\"\n",
    "dremio_driver_jar=\"flight-sql-jdbc-driver-10.0.0.jar\""
   ]
  },
  {
   "cell_type": "code",
   "execution_count": 4,
   "id": "760dab1d-f68d-4e4a-a99b-fae7d49bf64e",
   "metadata": {
    "tags": []
   },
   "outputs": [],
   "source": [
    "schema_name='\"@admin\"'\n",
    "db_table_name='\"0_0_1\"'\n",
    "sql = f\"SELECT * FROM {schema_name}.{db_table_name}\"\n",
    "sql2 = f\"SELECT sens_dataset_status_dataset_name, amount FROM {schema_name}.{db_table_name}\""
   ]
  },
  {
   "cell_type": "code",
   "execution_count": 5,
   "id": "b996e0bc-1038-44aa-8b34-07f0cf6fcef3",
   "metadata": {
    "tags": []
   },
   "outputs": [],
   "source": [
    "import pandas as pd"
   ]
  },
  {
   "cell_type": "code",
   "execution_count": null,
   "id": "3c29b72d-4a9f-4d4a-9a46-1c8735ff0400",
   "metadata": {},
   "outputs": [],
   "source": []
  },
  {
   "cell_type": "code",
   "execution_count": 6,
   "id": "27c5ec24-7f34-4413-981a-a1f0cb9cf372",
   "metadata": {
    "tags": []
   },
   "outputs": [],
   "source": [
    "username=\"admin\"\n",
    "password=\"admin01!\"\n",
    "host_name=\"localhost\"\n",
    "port=\"32010\"\n",
    "database = \"Dremio\"\n",
    "\n",
    "jdbc_legacy_url=f\"jdbc:dremio:direct={host_name}:31010\"\n",
    "jdbc_url = f\"jdbc:arrow-flight-sql://{host_name}:{port}?user={username}&password={password}&useEncryption=false\"\n",
    "\n",
    "jdbc_driver=\"org.apache.arrow.driver.jdbc.ArrowFlightJdbcDriver\"\n",
    "jdbc_legacy_driver=\"com.dremio.jdbc.Driver\"\n",
    "atoti_table_name=\"dremio_sample\""
   ]
  },
  {
   "cell_type": "code",
   "execution_count": 7,
   "id": "04405a51-cb8d-4931-a8e1-aa6c5bcbfd04",
   "metadata": {
    "tags": []
   },
   "outputs": [
    {
     "data": {
      "text/plain": [
       "'/Users/gpadya/Documents/dremio-driver/Python Dremio Demo'"
      ]
     },
     "execution_count": 7,
     "metadata": {},
     "output_type": "execute_result"
    }
   ],
   "source": [
    "os.getcwd()"
   ]
  },
  {
   "cell_type": "code",
   "execution_count": 8,
   "id": "624f2cd6-9ac4-47db-94bb-c582369b1213",
   "metadata": {
    "tags": []
   },
   "outputs": [],
   "source": [
    "session = tt.Session(\n",
    "    port=9092,\n",
    "    user_content_storage = \"./Python Dremio Demo/content\",\n",
    "    # java_options=[\"-Dorg.springframework.boot.logging.LoggingSystem=none\"],\n",
    "    extra_jars=[f\"./utilities/extra_jars/{dremio_driver_jar}\"],\n",
    "    # app_extensions=tt.ADVANCED_APP_EXTENSION,\n",
    "    # logging=tt.LoggingConfig(destination=sys.stdout)\n",
    "    logging=tt.LoggingConfig(destination=\"./logging/server.log\")\n",
    ")"
   ]
  },
  {
   "cell_type": "code",
   "execution_count": 9,
   "id": "74e59987-4262-413a-beb4-f8e28d376e56",
   "metadata": {
    "tags": []
   },
   "outputs": [],
   "source": [
    "# dremio_sample=session.create_table(\n",
    "#     name=atoti_table_name,\n",
    "#     types = {\"trade_dataset_id\":tt.INT, \"amount\": tt.DOUBLE}\n",
    "# )"
   ]
  },
  {
   "cell_type": "code",
   "execution_count": 10,
   "id": "2addf114-5ca0-4610-8588-8695bcc18a23",
   "metadata": {
    "tags": []
   },
   "outputs": [],
   "source": [
    "# session.tables"
   ]
  },
  {
   "cell_type": "code",
   "execution_count": 11,
   "id": "14c13d38-9888-496b-9a44-00d1ffd01d25",
   "metadata": {},
   "outputs": [],
   "source": [
    "# dremio_sample.load_sql(sql2,\n",
    "#                 url=jdbc_url, \n",
    "#                 driver=jdbc_driver)"
   ]
  },
  {
   "cell_type": "code",
   "execution_count": 12,
   "id": "7420e357-1e2d-4f61-93ec-b4672ccf0a27",
   "metadata": {},
   "outputs": [
    {
     "ename": "Py4JJavaError",
     "evalue": "An error occurred while calling o35.loadDataSourceIntoStore.\n: com.activeviam.fwk.ActiveViamRuntimeException: Type incompatible for field amount between the source Nullable Object(int value 426112) and the record format Nullable double (int value 156256).\n\tat com.qfs.source.impl.AJDBCMessageChannelFactory.validate(AJDBCMessageChannelFactory.java:101)\n\tat com.qfs.source.impl.JDBCMessageChannelFactory.validate(JDBCMessageChannelFactory.java:62)\n\tat com.qfs.source.impl.AJDBCMessageChannelFactory.getTranslator(AJDBCMessageChannelFactory.java:61)\n\tat com.qfs.source.impl.AMessageChannelFactory.createChannel(AMessageChannelFactory.java:105)\n\tat com.qfs.source.impl.AMessageChannelFactory.createChannel(AMessageChannelFactory.java:84)\n\tat com.qfs.source.impl.AMessageChannelFactory.createChannel(AMessageChannelFactory.java:76)\n\tat io.atoti.loading.sql.SqlDataTable.createChannel(SqlDataTable.java:63)\n\tat io.atoti.loading.sql.SqlDataTable.loadWithinTransaction(SqlDataTable.java:102)\n\tat io.atoti.loading.impl.DataTableOperationUnit.executeOperation(DataTableOperationUnit.java:18)\n\tat io.atoti.api.impl.DataApiImpl.executeOperation(DataApiImpl.java:100)\n\tat io.atoti.api.impl.DataApiImpl.loadDataSourceIntoStore(DataApiImpl.java:121)\n\tat java.base/jdk.internal.reflect.NativeMethodAccessorImpl.invoke0(Native Method)\n\tat java.base/jdk.internal.reflect.NativeMethodAccessorImpl.invoke(Unknown Source)\n\tat java.base/jdk.internal.reflect.DelegatingMethodAccessorImpl.invoke(Unknown Source)\n\tat java.base/java.lang.reflect.Method.invoke(Unknown Source)\n\tat py4j.reflection.MethodInvoker.invoke(MethodInvoker.java:244)\n\tat py4j.reflection.ReflectionEngine.invoke(ReflectionEngine.java:357)\n\tat py4j.Gateway.invoke(Gateway.java:282)\n\tat py4j.commands.AbstractCommand.invokeMethod(AbstractCommand.java:132)\n\tat py4j.commands.CallCommand.execute(CallCommand.java:79)\n\tat py4j.ClientServerConnection.waitForCommands(ClientServerConnection.java:182)\n\tat py4j.ClientServerConnection.run(ClientServerConnection.java:106)\n\tat java.base/java.lang.Thread.run(Unknown Source)\n",
     "output_type": "error",
     "traceback": [
      "\u001b[0;31m---------------------------------------------------------------------------\u001b[0m",
      "\u001b[0;31mPy4JJavaError\u001b[0m                             Traceback (most recent call last)",
      "File \u001b[0;32m<timed exec>:1\u001b[0m\n",
      "File \u001b[0;32m~/anaconda3/envs/atoti-8.6/lib/python3.12/site-packages/atoti/_typecheck.py:18\u001b[0m, in \u001b[0;36mtypecheck.<locals>.wrapper\u001b[0;34m(*args, **kwargs)\u001b[0m\n\u001b[1;32m     16\u001b[0m memo \u001b[38;5;241m=\u001b[39m _CallMemo(func\u001b[38;5;241m=\u001b[39mfunction, args\u001b[38;5;241m=\u001b[39margs, kwargs\u001b[38;5;241m=\u001b[39mkwargs)\n\u001b[1;32m     17\u001b[0m check_argument_types(memo)\n\u001b[0;32m---> 18\u001b[0m \u001b[38;5;28;01mreturn\u001b[39;00m \u001b[43mfunction\u001b[49m\u001b[43m(\u001b[49m\u001b[38;5;241;43m*\u001b[39;49m\u001b[43margs\u001b[49m\u001b[43m,\u001b[49m\u001b[43m \u001b[49m\u001b[38;5;241;43m*\u001b[39;49m\u001b[38;5;241;43m*\u001b[39;49m\u001b[43mkwargs\u001b[49m\u001b[43m)\u001b[49m\n",
      "File \u001b[0;32m~/anaconda3/envs/atoti-8.6/lib/python3.12/site-packages/atoti/session.py:918\u001b[0m, in \u001b[0;36mSession.read_sql\u001b[0;34m(self, sql, url, table_name, driver, keys, partitioning, types, default_values)\u001b[0m\n\u001b[1;32m    910\u001b[0m types \u001b[38;5;241m=\u001b[39m {\u001b[38;5;241m*\u001b[39m\u001b[38;5;241m*\u001b[39minferred_types, \u001b[38;5;241m*\u001b[39m\u001b[38;5;241m*\u001b[39mtypes}\n\u001b[1;32m    911\u001b[0m table \u001b[38;5;241m=\u001b[39m \u001b[38;5;28mself\u001b[39m\u001b[38;5;241m.\u001b[39mcreate_table(\n\u001b[1;32m    912\u001b[0m     table_name,\n\u001b[1;32m    913\u001b[0m     types\u001b[38;5;241m=\u001b[39mtypes,\n\u001b[0;32m   (...)\u001b[0m\n\u001b[1;32m    916\u001b[0m     default_values\u001b[38;5;241m=\u001b[39mdefault_values,\n\u001b[1;32m    917\u001b[0m )\n\u001b[0;32m--> 918\u001b[0m \u001b[43mtable\u001b[49m\u001b[38;5;241;43m.\u001b[39;49m\u001b[43mload_sql\u001b[49m\u001b[43m(\u001b[49m\u001b[43msql\u001b[49m\u001b[43m,\u001b[49m\u001b[43m \u001b[49m\u001b[43murl\u001b[49m\u001b[38;5;241;43m=\u001b[39;49m\u001b[43murl\u001b[49m\u001b[43m,\u001b[49m\u001b[43m \u001b[49m\u001b[43mdriver\u001b[49m\u001b[38;5;241;43m=\u001b[39;49m\u001b[43mdriver\u001b[49m\u001b[43m)\u001b[49m\n\u001b[1;32m    919\u001b[0m \u001b[38;5;28;01mreturn\u001b[39;00m table\n",
      "File \u001b[0;32m~/anaconda3/envs/atoti-8.6/lib/python3.12/site-packages/atoti/_typecheck.py:18\u001b[0m, in \u001b[0;36mtypecheck.<locals>.wrapper\u001b[0;34m(*args, **kwargs)\u001b[0m\n\u001b[1;32m     16\u001b[0m memo \u001b[38;5;241m=\u001b[39m _CallMemo(func\u001b[38;5;241m=\u001b[39mfunction, args\u001b[38;5;241m=\u001b[39margs, kwargs\u001b[38;5;241m=\u001b[39mkwargs)\n\u001b[1;32m     17\u001b[0m check_argument_types(memo)\n\u001b[0;32m---> 18\u001b[0m \u001b[38;5;28;01mreturn\u001b[39;00m \u001b[43mfunction\u001b[49m\u001b[43m(\u001b[49m\u001b[38;5;241;43m*\u001b[39;49m\u001b[43margs\u001b[49m\u001b[43m,\u001b[49m\u001b[43m \u001b[49m\u001b[38;5;241;43m*\u001b[39;49m\u001b[38;5;241;43m*\u001b[39;49m\u001b[43mkwargs\u001b[49m\u001b[43m)\u001b[49m\n",
      "File \u001b[0;32m~/anaconda3/envs/atoti-8.6/lib/python3.12/site-packages/atoti/table.py:569\u001b[0m, in \u001b[0;36mTable.load_sql\u001b[0;34m(self, sql, url, driver)\u001b[0m\n\u001b[1;32m    527\u001b[0m \u001b[38;5;129m@doc\u001b[39m(\n\u001b[1;32m    528\u001b[0m     \u001b[38;5;241m*\u001b[39m\u001b[38;5;241m*\u001b[39m_SQL_KWARGS,\n\u001b[1;32m    529\u001b[0m     \u001b[38;5;66;03m# Declare the types here because blackdoc and doctest conflict when inlining it in the docstring.\u001b[39;00m\n\u001b[0;32m   (...)\u001b[0m\n\u001b[1;32m    537\u001b[0m     driver: Optional[\u001b[38;5;28mstr\u001b[39m] \u001b[38;5;241m=\u001b[39m \u001b[38;5;28;01mNone\u001b[39;00m,\n\u001b[1;32m    538\u001b[0m ) \u001b[38;5;241m-\u001b[39m\u001b[38;5;241m>\u001b[39m \u001b[38;5;28;01mNone\u001b[39;00m:\n\u001b[1;32m    539\u001b[0m \u001b[38;5;250m    \u001b[39m\u001b[38;5;124;03m\"\"\"Load the result of the passed SQL query into the table.\u001b[39;00m\n\u001b[1;32m    540\u001b[0m \n\u001b[1;32m    541\u001b[0m \u001b[38;5;124;03m    Note:\u001b[39;00m\n\u001b[0;32m   (...)\u001b[0m\n\u001b[1;32m    567\u001b[0m \u001b[38;5;124;03m            0\u001b[39;00m\n\u001b[1;32m    568\u001b[0m \u001b[38;5;124;03m    \"\"\"\u001b[39;00m\n\u001b[0;32m--> 569\u001b[0m     \u001b[38;5;28;01mreturn\u001b[39;00m \u001b[38;5;28;43mself\u001b[39;49m\u001b[38;5;241;43m.\u001b[39;49m\u001b[43m_load_sql\u001b[49m\u001b[43m(\u001b[49m\n\u001b[1;32m    570\u001b[0m \u001b[43m        \u001b[49m\u001b[38;5;28;43mself\u001b[39;49m\u001b[38;5;241;43m.\u001b[39;49m\u001b[43m_identifier\u001b[49m\u001b[43m,\u001b[49m\n\u001b[1;32m    571\u001b[0m \u001b[43m        \u001b[49m\u001b[43msql\u001b[49m\u001b[43m,\u001b[49m\n\u001b[1;32m    572\u001b[0m \u001b[43m        \u001b[49m\u001b[43murl\u001b[49m\u001b[38;5;241;43m=\u001b[39;49m\u001b[43murl\u001b[49m\u001b[43m,\u001b[49m\n\u001b[1;32m    573\u001b[0m \u001b[43m        \u001b[49m\u001b[43mdriver\u001b[49m\u001b[38;5;241;43m=\u001b[39;49m\u001b[43mdriver\u001b[49m\u001b[43m,\u001b[49m\n\u001b[1;32m    574\u001b[0m \u001b[43m        \u001b[49m\u001b[43mjava_api\u001b[49m\u001b[38;5;241;43m=\u001b[39;49m\u001b[38;5;28;43mself\u001b[39;49m\u001b[38;5;241;43m.\u001b[39;49m\u001b[43m_java_api\u001b[49m\u001b[43m,\u001b[49m\n\u001b[1;32m    575\u001b[0m \u001b[43m        \u001b[49m\u001b[43mscenario_name\u001b[49m\u001b[38;5;241;43m=\u001b[39;49m\u001b[38;5;28;43mself\u001b[39;49m\u001b[38;5;241;43m.\u001b[39;49m\u001b[43mscenario\u001b[49m\u001b[43m,\u001b[49m\n\u001b[1;32m    576\u001b[0m \u001b[43m    \u001b[49m\u001b[43m)\u001b[49m\n",
      "File \u001b[0;32m~/anaconda3/envs/atoti-8.6/lib/python3.12/site-packages/atoti_sql/_source.py:126\u001b[0m, in \u001b[0;36mload_sql\u001b[0;34m(identifier, sql, url, driver, java_api, scenario_name)\u001b[0m\n\u001b[1;32m    112\u001b[0m \u001b[38;5;28;01mdef\u001b[39;00m \u001b[38;5;21mload_sql\u001b[39m(\n\u001b[1;32m    113\u001b[0m     identifier: TableIdentifier,\n\u001b[1;32m    114\u001b[0m     sql: \u001b[38;5;28mstr\u001b[39m,\n\u001b[0;32m   (...)\u001b[0m\n\u001b[1;32m    120\u001b[0m     scenario_name: \u001b[38;5;28mstr\u001b[39m,\n\u001b[1;32m    121\u001b[0m ) \u001b[38;5;241m-\u001b[39m\u001b[38;5;241m>\u001b[39m \u001b[38;5;28;01mNone\u001b[39;00m:\n\u001b[1;32m    122\u001b[0m     url \u001b[38;5;241m=\u001b[39m normalize_jdbc_url(url)\n\u001b[1;32m    123\u001b[0m     \u001b[43mSqlDataSource\u001b[49m\u001b[43m(\u001b[49m\n\u001b[1;32m    124\u001b[0m \u001b[43m        \u001b[49m\u001b[43mload_data_into_table\u001b[49m\u001b[38;5;241;43m=\u001b[39;49m\u001b[43mjava_api\u001b[49m\u001b[38;5;241;43m.\u001b[39;49m\u001b[43mload_data_into_table\u001b[49m\u001b[43m,\u001b[49m\n\u001b[1;32m    125\u001b[0m \u001b[43m        \u001b[49m\u001b[43minfer_types\u001b[49m\u001b[38;5;241;43m=\u001b[39;49m\u001b[43mjava_api\u001b[49m\u001b[38;5;241;43m.\u001b[39;49m\u001b[43minfer_table_types_from_source\u001b[49m\u001b[43m,\u001b[49m\n\u001b[0;32m--> 126\u001b[0m \u001b[43m    \u001b[49m\u001b[43m)\u001b[49m\u001b[38;5;241;43m.\u001b[39;49m\u001b[43mload_sql_into_table\u001b[49m\u001b[43m(\u001b[49m\n\u001b[1;32m    127\u001b[0m \u001b[43m        \u001b[49m\u001b[43midentifier\u001b[49m\u001b[43m,\u001b[49m\n\u001b[1;32m    128\u001b[0m \u001b[43m        \u001b[49m\u001b[43msql\u001b[49m\u001b[43m,\u001b[49m\n\u001b[1;32m    129\u001b[0m \u001b[43m        \u001b[49m\u001b[43mdriver\u001b[49m\u001b[38;5;241;43m=\u001b[39;49m\u001b[43mdriver\u001b[49m\u001b[43m \u001b[49m\u001b[38;5;129;43;01mor\u001b[39;49;00m\u001b[43m \u001b[49m\u001b[43minfer_driver\u001b[49m\u001b[43m(\u001b[49m\u001b[43murl\u001b[49m\u001b[43m)\u001b[49m\u001b[43m,\u001b[49m\n\u001b[1;32m    130\u001b[0m \u001b[43m        \u001b[49m\u001b[43mscenario_name\u001b[49m\u001b[38;5;241;43m=\u001b[39;49m\u001b[43mscenario_name\u001b[49m\u001b[43m,\u001b[49m\n\u001b[1;32m    131\u001b[0m \u001b[43m        \u001b[49m\u001b[43murl\u001b[49m\u001b[38;5;241;43m=\u001b[39;49m\u001b[43murl\u001b[49m\u001b[43m,\u001b[49m\n\u001b[1;32m    132\u001b[0m \u001b[43m    \u001b[49m\u001b[43m)\u001b[49m\n",
      "File \u001b[0;32m~/anaconda3/envs/atoti-8.6/lib/python3.12/site-packages/atoti_sql/_source.py:57\u001b[0m, in \u001b[0;36mSqlDataSource.load_sql_into_table\u001b[0;34m(self, identifier, sql, driver, scenario_name, url)\u001b[0m\n\u001b[1;32m     42\u001b[0m \u001b[38;5;28;01mdef\u001b[39;00m \u001b[38;5;21mload_sql_into_table\u001b[39m(\n\u001b[1;32m     43\u001b[0m     \u001b[38;5;28mself\u001b[39m,\n\u001b[1;32m     44\u001b[0m     identifier: TableIdentifier,\n\u001b[0;32m   (...)\u001b[0m\n\u001b[1;32m     50\u001b[0m     url: \u001b[38;5;28mstr\u001b[39m,\n\u001b[1;32m     51\u001b[0m ) \u001b[38;5;241m-\u001b[39m\u001b[38;5;241m>\u001b[39m \u001b[38;5;28;01mNone\u001b[39;00m:\n\u001b[1;32m     52\u001b[0m     source_params \u001b[38;5;241m=\u001b[39m _create_source_params(\n\u001b[1;32m     53\u001b[0m         driver\u001b[38;5;241m=\u001b[39mdriver,\n\u001b[1;32m     54\u001b[0m         sql\u001b[38;5;241m=\u001b[39msql,\n\u001b[1;32m     55\u001b[0m         url\u001b[38;5;241m=\u001b[39murl,\n\u001b[1;32m     56\u001b[0m     )\n\u001b[0;32m---> 57\u001b[0m     \u001b[38;5;28;43mself\u001b[39;49m\u001b[38;5;241;43m.\u001b[39;49m\u001b[43mload_data_into_table\u001b[49m\u001b[43m(\u001b[49m\n\u001b[1;32m     58\u001b[0m \u001b[43m        \u001b[49m\u001b[43midentifier\u001b[49m\u001b[43m,\u001b[49m\n\u001b[1;32m     59\u001b[0m \u001b[43m        \u001b[49m\u001b[43msource_params\u001b[49m\u001b[43m,\u001b[49m\n\u001b[1;32m     60\u001b[0m \u001b[43m        \u001b[49m\u001b[43mscenario_name\u001b[49m\u001b[38;5;241;43m=\u001b[39;49m\u001b[43mscenario_name\u001b[49m\u001b[43m,\u001b[49m\n\u001b[1;32m     61\u001b[0m \u001b[43m    \u001b[49m\u001b[43m)\u001b[49m\n",
      "File \u001b[0;32m~/anaconda3/envs/atoti-8.6/lib/python3.12/site-packages/atoti/_sources/data_source.py:62\u001b[0m, in \u001b[0;36mDataSource.load_data_into_table\u001b[0;34m(self, identifier, source_params, scenario_name)\u001b[0m\n\u001b[1;32m     47\u001b[0m \u001b[38;5;28;01mdef\u001b[39;00m \u001b[38;5;21mload_data_into_table\u001b[39m(\n\u001b[1;32m     48\u001b[0m     \u001b[38;5;28mself\u001b[39m,\n\u001b[1;32m     49\u001b[0m     identifier: TableIdentifier,\n\u001b[0;32m   (...)\u001b[0m\n\u001b[1;32m     53\u001b[0m     scenario_name: \u001b[38;5;28mstr\u001b[39m,\n\u001b[1;32m     54\u001b[0m ) \u001b[38;5;241m-\u001b[39m\u001b[38;5;241m>\u001b[39m \u001b[38;5;28;01mNone\u001b[39;00m:\n\u001b[1;32m     55\u001b[0m \u001b[38;5;250m    \u001b[39m\u001b[38;5;124;03m\"\"\"Load the data into an existing table with a given source.\u001b[39;00m\n\u001b[1;32m     56\u001b[0m \n\u001b[1;32m     57\u001b[0m \u001b[38;5;124;03m    Args:\u001b[39;00m\n\u001b[0;32m   (...)\u001b[0m\n\u001b[1;32m     60\u001b[0m \u001b[38;5;124;03m        source_params: The parameters specific to the source.\u001b[39;00m\n\u001b[1;32m     61\u001b[0m \u001b[38;5;124;03m    \"\"\"\u001b[39;00m\n\u001b[0;32m---> 62\u001b[0m     \u001b[38;5;28;43mself\u001b[39;49m\u001b[38;5;241;43m.\u001b[39;49m\u001b[43m_load_data_into_table\u001b[49m\u001b[43m(\u001b[49m\n\u001b[1;32m     63\u001b[0m \u001b[43m        \u001b[49m\u001b[43midentifier\u001b[49m\u001b[43m,\u001b[49m\n\u001b[1;32m     64\u001b[0m \u001b[43m        \u001b[49m\u001b[38;5;28;43mself\u001b[39;49m\u001b[38;5;241;43m.\u001b[39;49m\u001b[43mkey\u001b[49m\u001b[43m,\u001b[49m\n\u001b[1;32m     65\u001b[0m \u001b[43m        \u001b[49m\u001b[43msource_params\u001b[49m\u001b[43m,\u001b[49m\n\u001b[1;32m     66\u001b[0m \u001b[43m        \u001b[49m\u001b[43mscenario_name\u001b[49m\u001b[38;5;241;43m=\u001b[39;49m\u001b[43mscenario_name\u001b[49m\u001b[43m,\u001b[49m\n\u001b[1;32m     67\u001b[0m \u001b[43m    \u001b[49m\u001b[43m)\u001b[49m\n",
      "File \u001b[0;32m~/anaconda3/envs/atoti-8.6/lib/python3.12/site-packages/atoti/_java_api.py:514\u001b[0m, in \u001b[0;36mJavaApi.load_data_into_table\u001b[0;34m(self, identifier, source_key, source_params, scenario_name)\u001b[0m\n\u001b[1;32m    500\u001b[0m         \u001b[38;5;28mself\u001b[39m\u001b[38;5;241m.\u001b[39m_inside_transaction(\n\u001b[1;32m    501\u001b[0m             \u001b[38;5;28;01mlambda\u001b[39;00m: cast(\n\u001b[1;32m    502\u001b[0m                 \u001b[38;5;28;01mNone\u001b[39;00m,\n\u001b[0;32m   (...)\u001b[0m\n\u001b[1;32m    511\u001b[0m             source_key\u001b[38;5;241m=\u001b[39msource_key,\n\u001b[1;32m    512\u001b[0m         )\n\u001b[1;32m    513\u001b[0m \u001b[38;5;28;01melse\u001b[39;00m:\n\u001b[0;32m--> 514\u001b[0m     \u001b[38;5;28;43mself\u001b[39;49m\u001b[38;5;241;43m.\u001b[39;49m\u001b[43m_inside_transaction\u001b[49m\u001b[43m(\u001b[49m\n\u001b[1;32m    515\u001b[0m \u001b[43m        \u001b[49m\u001b[38;5;28;43;01mlambda\u001b[39;49;00m\u001b[43m:\u001b[49m\u001b[43m \u001b[49m\u001b[43mcast\u001b[49m\u001b[43m(\u001b[49m\n\u001b[1;32m    516\u001b[0m \u001b[43m            \u001b[49m\u001b[38;5;28;43;01mNone\u001b[39;49;00m\u001b[43m,\u001b[49m\n\u001b[1;32m    517\u001b[0m \u001b[43m            \u001b[49m\u001b[38;5;28;43mself\u001b[39;49m\u001b[38;5;241;43m.\u001b[39;49m\u001b[43mjava_api\u001b[49m\u001b[38;5;241;43m.\u001b[39;49m\u001b[43mloadDataSourceIntoStore\u001b[49m\u001b[43m(\u001b[49m\n\u001b[1;32m    518\u001b[0m \u001b[43m                \u001b[49m\u001b[43midentifier\u001b[49m\u001b[38;5;241;43m.\u001b[39;49m\u001b[43mtable_name\u001b[49m\u001b[43m,\u001b[49m\n\u001b[1;32m    519\u001b[0m \u001b[43m                \u001b[49m\u001b[43msource_key\u001b[49m\u001b[43m,\u001b[49m\n\u001b[1;32m    520\u001b[0m \u001b[43m                \u001b[49m\u001b[43mload_params\u001b[49m\u001b[43m,\u001b[49m\n\u001b[1;32m    521\u001b[0m \u001b[43m                \u001b[49m\u001b[43msource_params\u001b[49m\u001b[43m,\u001b[49m\n\u001b[1;32m    522\u001b[0m \u001b[43m            \u001b[49m\u001b[43m)\u001b[49m\u001b[43m,\u001b[49m\n\u001b[1;32m    523\u001b[0m \u001b[43m        \u001b[49m\u001b[43m)\u001b[49m\u001b[43m,\u001b[49m\n\u001b[1;32m    524\u001b[0m \u001b[43m        \u001b[49m\u001b[43mscenario_name\u001b[49m\u001b[38;5;241;43m=\u001b[39;49m\u001b[43mscenario_name\u001b[49m\u001b[43m,\u001b[49m\n\u001b[1;32m    525\u001b[0m \u001b[43m        \u001b[49m\u001b[43msource_key\u001b[49m\u001b[38;5;241;43m=\u001b[39;49m\u001b[43msource_key\u001b[49m\u001b[43m,\u001b[49m\n\u001b[1;32m    526\u001b[0m \u001b[43m    \u001b[49m\u001b[43m)\u001b[49m\n\u001b[1;32m    528\u001b[0m \u001b[38;5;66;03m# Check if errors happened during the loading\u001b[39;00m\n\u001b[1;32m    529\u001b[0m _warn_new_errors(\u001b[38;5;28mself\u001b[39m\u001b[38;5;241m.\u001b[39mget_new_load_errors())\n",
      "File \u001b[0;32m~/anaconda3/envs/atoti-8.6/lib/python3.12/site-packages/atoti/_java_api.py:1680\u001b[0m, in \u001b[0;36mJavaApi._inside_transaction\u001b[0;34m(self, callback, scenario_name, source_key)\u001b[0m\n\u001b[1;32m   1673\u001b[0m \u001b[38;5;28;01melse\u001b[39;00m:\n\u001b[1;32m   1674\u001b[0m     \u001b[38;5;28;01mwith\u001b[39;00m Transaction(\n\u001b[1;32m   1675\u001b[0m         scenario_name,\n\u001b[1;32m   1676\u001b[0m         start\u001b[38;5;241m=\u001b[39m\u001b[38;5;28mself\u001b[39m\u001b[38;5;241m.\u001b[39mstart_transaction,\n\u001b[1;32m   1677\u001b[0m         end\u001b[38;5;241m=\u001b[39m\u001b[38;5;28mself\u001b[39m\u001b[38;5;241m.\u001b[39mend_transaction,\n\u001b[1;32m   1678\u001b[0m         is_user_initiated\u001b[38;5;241m=\u001b[39m\u001b[38;5;28;01mFalse\u001b[39;00m,\n\u001b[1;32m   1679\u001b[0m     ):\n\u001b[0;32m-> 1680\u001b[0m         \u001b[43mcallback\u001b[49m\u001b[43m(\u001b[49m\u001b[43m)\u001b[49m\n",
      "File \u001b[0;32m~/anaconda3/envs/atoti-8.6/lib/python3.12/site-packages/atoti/_java_api.py:517\u001b[0m, in \u001b[0;36mJavaApi.load_data_into_table.<locals>.<lambda>\u001b[0;34m()\u001b[0m\n\u001b[1;32m    500\u001b[0m         \u001b[38;5;28mself\u001b[39m\u001b[38;5;241m.\u001b[39m_inside_transaction(\n\u001b[1;32m    501\u001b[0m             \u001b[38;5;28;01mlambda\u001b[39;00m: cast(\n\u001b[1;32m    502\u001b[0m                 \u001b[38;5;28;01mNone\u001b[39;00m,\n\u001b[0;32m   (...)\u001b[0m\n\u001b[1;32m    511\u001b[0m             source_key\u001b[38;5;241m=\u001b[39msource_key,\n\u001b[1;32m    512\u001b[0m         )\n\u001b[1;32m    513\u001b[0m \u001b[38;5;28;01melse\u001b[39;00m:\n\u001b[1;32m    514\u001b[0m     \u001b[38;5;28mself\u001b[39m\u001b[38;5;241m.\u001b[39m_inside_transaction(\n\u001b[1;32m    515\u001b[0m         \u001b[38;5;28;01mlambda\u001b[39;00m: cast(\n\u001b[1;32m    516\u001b[0m             \u001b[38;5;28;01mNone\u001b[39;00m,\n\u001b[0;32m--> 517\u001b[0m             \u001b[38;5;28;43mself\u001b[39;49m\u001b[38;5;241;43m.\u001b[39;49m\u001b[43mjava_api\u001b[49m\u001b[38;5;241;43m.\u001b[39;49m\u001b[43mloadDataSourceIntoStore\u001b[49m\u001b[43m(\u001b[49m\n\u001b[1;32m    518\u001b[0m \u001b[43m                \u001b[49m\u001b[43midentifier\u001b[49m\u001b[38;5;241;43m.\u001b[39;49m\u001b[43mtable_name\u001b[49m\u001b[43m,\u001b[49m\n\u001b[1;32m    519\u001b[0m \u001b[43m                \u001b[49m\u001b[43msource_key\u001b[49m\u001b[43m,\u001b[49m\n\u001b[1;32m    520\u001b[0m \u001b[43m                \u001b[49m\u001b[43mload_params\u001b[49m\u001b[43m,\u001b[49m\n\u001b[1;32m    521\u001b[0m \u001b[43m                \u001b[49m\u001b[43msource_params\u001b[49m\u001b[43m,\u001b[49m\n\u001b[1;32m    522\u001b[0m \u001b[43m            \u001b[49m\u001b[43m)\u001b[49m,\n\u001b[1;32m    523\u001b[0m         ),\n\u001b[1;32m    524\u001b[0m         scenario_name\u001b[38;5;241m=\u001b[39mscenario_name,\n\u001b[1;32m    525\u001b[0m         source_key\u001b[38;5;241m=\u001b[39msource_key,\n\u001b[1;32m    526\u001b[0m     )\n\u001b[1;32m    528\u001b[0m \u001b[38;5;66;03m# Check if errors happened during the loading\u001b[39;00m\n\u001b[1;32m    529\u001b[0m _warn_new_errors(\u001b[38;5;28mself\u001b[39m\u001b[38;5;241m.\u001b[39mget_new_load_errors())\n",
      "File \u001b[0;32m~/anaconda3/envs/atoti-8.6/lib/python3.12/site-packages/py4j/java_gateway.py:1322\u001b[0m, in \u001b[0;36mJavaMember.__call__\u001b[0;34m(self, *args)\u001b[0m\n\u001b[1;32m   1316\u001b[0m command \u001b[38;5;241m=\u001b[39m proto\u001b[38;5;241m.\u001b[39mCALL_COMMAND_NAME \u001b[38;5;241m+\u001b[39m\\\n\u001b[1;32m   1317\u001b[0m     \u001b[38;5;28mself\u001b[39m\u001b[38;5;241m.\u001b[39mcommand_header \u001b[38;5;241m+\u001b[39m\\\n\u001b[1;32m   1318\u001b[0m     args_command \u001b[38;5;241m+\u001b[39m\\\n\u001b[1;32m   1319\u001b[0m     proto\u001b[38;5;241m.\u001b[39mEND_COMMAND_PART\n\u001b[1;32m   1321\u001b[0m answer \u001b[38;5;241m=\u001b[39m \u001b[38;5;28mself\u001b[39m\u001b[38;5;241m.\u001b[39mgateway_client\u001b[38;5;241m.\u001b[39msend_command(command)\n\u001b[0;32m-> 1322\u001b[0m return_value \u001b[38;5;241m=\u001b[39m \u001b[43mget_return_value\u001b[49m\u001b[43m(\u001b[49m\n\u001b[1;32m   1323\u001b[0m \u001b[43m    \u001b[49m\u001b[43manswer\u001b[49m\u001b[43m,\u001b[49m\u001b[43m \u001b[49m\u001b[38;5;28;43mself\u001b[39;49m\u001b[38;5;241;43m.\u001b[39;49m\u001b[43mgateway_client\u001b[49m\u001b[43m,\u001b[49m\u001b[43m \u001b[49m\u001b[38;5;28;43mself\u001b[39;49m\u001b[38;5;241;43m.\u001b[39;49m\u001b[43mtarget_id\u001b[49m\u001b[43m,\u001b[49m\u001b[43m \u001b[49m\u001b[38;5;28;43mself\u001b[39;49m\u001b[38;5;241;43m.\u001b[39;49m\u001b[43mname\u001b[49m\u001b[43m)\u001b[49m\n\u001b[1;32m   1325\u001b[0m \u001b[38;5;28;01mfor\u001b[39;00m temp_arg \u001b[38;5;129;01min\u001b[39;00m temp_args:\n\u001b[1;32m   1326\u001b[0m     \u001b[38;5;28;01mif\u001b[39;00m \u001b[38;5;28mhasattr\u001b[39m(temp_arg, \u001b[38;5;124m\"\u001b[39m\u001b[38;5;124m_detach\u001b[39m\u001b[38;5;124m\"\u001b[39m):\n",
      "File \u001b[0;32m~/anaconda3/envs/atoti-8.6/lib/python3.12/site-packages/py4j/protocol.py:326\u001b[0m, in \u001b[0;36mget_return_value\u001b[0;34m(answer, gateway_client, target_id, name)\u001b[0m\n\u001b[1;32m    324\u001b[0m value \u001b[38;5;241m=\u001b[39m OUTPUT_CONVERTER[\u001b[38;5;28mtype\u001b[39m](answer[\u001b[38;5;241m2\u001b[39m:], gateway_client)\n\u001b[1;32m    325\u001b[0m \u001b[38;5;28;01mif\u001b[39;00m answer[\u001b[38;5;241m1\u001b[39m] \u001b[38;5;241m==\u001b[39m REFERENCE_TYPE:\n\u001b[0;32m--> 326\u001b[0m     \u001b[38;5;28;01mraise\u001b[39;00m Py4JJavaError(\n\u001b[1;32m    327\u001b[0m         \u001b[38;5;124m\"\u001b[39m\u001b[38;5;124mAn error occurred while calling \u001b[39m\u001b[38;5;132;01m{0}\u001b[39;00m\u001b[38;5;132;01m{1}\u001b[39;00m\u001b[38;5;132;01m{2}\u001b[39;00m\u001b[38;5;124m.\u001b[39m\u001b[38;5;130;01m\\n\u001b[39;00m\u001b[38;5;124m\"\u001b[39m\u001b[38;5;241m.\u001b[39m\n\u001b[1;32m    328\u001b[0m         \u001b[38;5;28mformat\u001b[39m(target_id, \u001b[38;5;124m\"\u001b[39m\u001b[38;5;124m.\u001b[39m\u001b[38;5;124m\"\u001b[39m, name), value)\n\u001b[1;32m    329\u001b[0m \u001b[38;5;28;01melse\u001b[39;00m:\n\u001b[1;32m    330\u001b[0m     \u001b[38;5;28;01mraise\u001b[39;00m Py4JError(\n\u001b[1;32m    331\u001b[0m         \u001b[38;5;124m\"\u001b[39m\u001b[38;5;124mAn error occurred while calling \u001b[39m\u001b[38;5;132;01m{0}\u001b[39;00m\u001b[38;5;132;01m{1}\u001b[39;00m\u001b[38;5;132;01m{2}\u001b[39;00m\u001b[38;5;124m. Trace:\u001b[39m\u001b[38;5;130;01m\\n\u001b[39;00m\u001b[38;5;132;01m{3}\u001b[39;00m\u001b[38;5;130;01m\\n\u001b[39;00m\u001b[38;5;124m\"\u001b[39m\u001b[38;5;241m.\u001b[39m\n\u001b[1;32m    332\u001b[0m         \u001b[38;5;28mformat\u001b[39m(target_id, \u001b[38;5;124m\"\u001b[39m\u001b[38;5;124m.\u001b[39m\u001b[38;5;124m\"\u001b[39m, name, value))\n",
      "\u001b[0;31mPy4JJavaError\u001b[0m: An error occurred while calling o35.loadDataSourceIntoStore.\n: com.activeviam.fwk.ActiveViamRuntimeException: Type incompatible for field amount between the source Nullable Object(int value 426112) and the record format Nullable double (int value 156256).\n\tat com.qfs.source.impl.AJDBCMessageChannelFactory.validate(AJDBCMessageChannelFactory.java:101)\n\tat com.qfs.source.impl.JDBCMessageChannelFactory.validate(JDBCMessageChannelFactory.java:62)\n\tat com.qfs.source.impl.AJDBCMessageChannelFactory.getTranslator(AJDBCMessageChannelFactory.java:61)\n\tat com.qfs.source.impl.AMessageChannelFactory.createChannel(AMessageChannelFactory.java:105)\n\tat com.qfs.source.impl.AMessageChannelFactory.createChannel(AMessageChannelFactory.java:84)\n\tat com.qfs.source.impl.AMessageChannelFactory.createChannel(AMessageChannelFactory.java:76)\n\tat io.atoti.loading.sql.SqlDataTable.createChannel(SqlDataTable.java:63)\n\tat io.atoti.loading.sql.SqlDataTable.loadWithinTransaction(SqlDataTable.java:102)\n\tat io.atoti.loading.impl.DataTableOperationUnit.executeOperation(DataTableOperationUnit.java:18)\n\tat io.atoti.api.impl.DataApiImpl.executeOperation(DataApiImpl.java:100)\n\tat io.atoti.api.impl.DataApiImpl.loadDataSourceIntoStore(DataApiImpl.java:121)\n\tat java.base/jdk.internal.reflect.NativeMethodAccessorImpl.invoke0(Native Method)\n\tat java.base/jdk.internal.reflect.NativeMethodAccessorImpl.invoke(Unknown Source)\n\tat java.base/jdk.internal.reflect.DelegatingMethodAccessorImpl.invoke(Unknown Source)\n\tat java.base/java.lang.reflect.Method.invoke(Unknown Source)\n\tat py4j.reflection.MethodInvoker.invoke(MethodInvoker.java:244)\n\tat py4j.reflection.ReflectionEngine.invoke(ReflectionEngine.java:357)\n\tat py4j.Gateway.invoke(Gateway.java:282)\n\tat py4j.commands.AbstractCommand.invokeMethod(AbstractCommand.java:132)\n\tat py4j.commands.CallCommand.execute(CallCommand.java:79)\n\tat py4j.ClientServerConnection.waitForCommands(ClientServerConnection.java:182)\n\tat py4j.ClientServerConnection.run(ClientServerConnection.java:106)\n\tat java.base/java.lang.Thread.run(Unknown Source)\n"
     ]
    }
   ],
   "source": [
    "%%time\n",
    "dremio_sample=session.read_sql(sql2,\n",
    "                url=jdbc_url, \n",
    "                driver=jdbc_driver,\n",
    "                table_name=atoti_table_name,\n",
    "                types = {\"sens_dataset_status_dataset_name\":tt.STRING, \n",
    "                         \"amount\": tt.DOUBLE}\n",
    "                \n",
    "                 )"
   ]
  },
  {
   "cell_type": "code",
   "execution_count": 13,
   "id": "31e29993-78a0-45ff-9969-888a3f52b1dd",
   "metadata": {},
   "outputs": [
    {
     "ename": "NameError",
     "evalue": "name 'dremio_sample' is not defined",
     "output_type": "error",
     "traceback": [
      "\u001b[0;31m---------------------------------------------------------------------------\u001b[0m",
      "\u001b[0;31mNameError\u001b[0m                                 Traceback (most recent call last)",
      "Cell \u001b[0;32mIn[13], line 1\u001b[0m\n\u001b[0;32m----> 1\u001b[0m \u001b[43mdremio_sample\u001b[49m\n",
      "\u001b[0;31mNameError\u001b[0m: name 'dremio_sample' is not defined"
     ]
    }
   ],
   "source": [
    "dremio_sample"
   ]
  },
  {
   "cell_type": "code",
   "execution_count": null,
   "id": "9bc7795b-3279-40a7-b1ce-f449eacad957",
   "metadata": {},
   "outputs": [],
   "source": [
    "session.create_cube(dremio_sample)"
   ]
  },
  {
   "cell_type": "code",
   "execution_count": null,
   "id": "981e9ced-0b04-49e7-81b0-0473dba395ce",
   "metadata": {
    "atoti": {
     "widget": {
      "mapping": {
       "columns": [
        "ALL_MEASURES"
       ],
       "measures": [],
       "rows": [
        "[dremio_sample].[sens_dataset_status_dataset_name].[sens_dataset_status_dataset_name]",
        "[dremio_sample].[amount].[amount]"
       ]
      },
      "query": {
       "mdx": "SELECT NON EMPTY Crossjoin(Hierarchize(Descendants({[dremio_sample].[sens_dataset_status_dataset_name].[ALL].[AllMember]}, 1, SELF_AND_BEFORE)), Hierarchize(Descendants({[dremio_sample].[amount].[ALL].[AllMember]}, 1, SELF_AND_BEFORE))) ON ROWS FROM [dremio_sample] CELL PROPERTIES VALUE, FORMATTED_VALUE, BACK_COLOR, FORE_COLOR, FONT_FLAGS",
       "updateMode": "once"
      },
      "serverKey": "default",
      "widgetKey": "pivot-table"
     }
    }
   },
   "outputs": [],
   "source": [
    "session.widget"
   ]
  }
 ],
 "metadata": {
  "kernelspec": {
   "display_name": "Python 3 (ipykernel)",
   "language": "python",
   "name": "python3"
  },
  "language_info": {
   "codemirror_mode": {
    "name": "ipython",
    "version": 3
   },
   "file_extension": ".py",
   "mimetype": "text/x-python",
   "name": "python",
   "nbconvert_exporter": "python",
   "pygments_lexer": "ipython3",
   "version": "3.12.2"
  }
 },
 "nbformat": 4,
 "nbformat_minor": 5
}
