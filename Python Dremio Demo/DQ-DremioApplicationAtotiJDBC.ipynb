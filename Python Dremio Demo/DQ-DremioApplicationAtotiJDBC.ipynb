{
 "cells": [
  {
   "cell_type": "markdown",
   "id": "a52bff83-6b89-4ffa-b714-62078f09fae9",
   "metadata": {},
   "source": [
    "# Dremio Test"
   ]
  },
  {
   "cell_type": "markdown",
   "id": "75f8c787-77b2-45e2-bf10-eed4c06a0703",
   "metadata": {},
   "source": [
    "## Setting up dremio\n"
   ]
  },
  {
   "cell_type": "markdown",
   "id": "a9a99865-82f7-43eb-9045-154f4bf3e536",
   "metadata": {},
   "source": [
    "## Imports"
   ]
  },
  {
   "cell_type": "code",
   "execution_count": 1,
   "id": "2399568a-4b30-4c39-8034-a93efa947bef",
   "metadata": {
    "tags": []
   },
   "outputs": [],
   "source": [
    "import os\n",
    "import sys\n",
    "import atoti as tt"
   ]
  },
  {
   "cell_type": "code",
   "execution_count": 2,
   "id": "b996e0bc-1038-44aa-8b34-07f0cf6fcef3",
   "metadata": {
    "tags": []
   },
   "outputs": [],
   "source": [
    "import pandas as pd"
   ]
  },
  {
   "cell_type": "markdown",
   "id": "054efd9c-face-417e-b013-9038da2863bf",
   "metadata": {},
   "source": [
    "Make sure you are running a version of atoti older than 0.8.10. This has been tested on 0.8.5"
   ]
  },
  {
   "cell_type": "code",
   "execution_count": 3,
   "id": "1fd36b55-fdbf-40da-a8a2-fa3eea299dac",
   "metadata": {
    "tags": []
   },
   "outputs": [
    {
     "data": {
      "text/plain": [
       "'0.9.0.20240507074627'"
      ]
     },
     "execution_count": 3,
     "metadata": {},
     "output_type": "execute_result"
    }
   ],
   "source": [
    "tt._version.VERSION"
   ]
  },
  {
   "cell_type": "markdown",
   "id": "e4e40804-a511-4eea-99ee-51d37796f8e4",
   "metadata": {},
   "source": [
    "### Jar Input"
   ]
  },
  {
   "cell_type": "code",
   "execution_count": 4,
   "id": "42a13610-2958-49e2-883c-25557fc7f53a",
   "metadata": {},
   "outputs": [],
   "source": [
    "dremio_driver_jar=\"flight-sql-jdbc-driver-15.0.0.jar\"\n",
    "dremio_dialect_jar=\"dremio-dialect-0.1.0.jar\""
   ]
  },
  {
   "cell_type": "markdown",
   "id": "c98a09ba-faea-4692-b359-3835a8decbfc",
   "metadata": {},
   "source": [
    "### SQL Setup"
   ]
  },
  {
   "cell_type": "code",
   "execution_count": 5,
   "id": "760dab1d-f68d-4e4a-a99b-fae7d49bf64e",
   "metadata": {
    "tags": []
   },
   "outputs": [],
   "source": [
    "schema_name='\"@admin\"'\n",
    "db_table_name='SampleData20240104'\n",
    "sql = f\"SELECT * FROM {schema_name}.{db_table_name}\""
   ]
  },
  {
   "cell_type": "markdown",
   "id": "55f1b384-46f2-461d-a3b0-973e18e8769a",
   "metadata": {},
   "source": [
    "### Database setup"
   ]
  },
  {
   "cell_type": "code",
   "execution_count": 6,
   "id": "27c5ec24-7f34-4413-981a-a1f0cb9cf372",
   "metadata": {
    "tags": []
   },
   "outputs": [],
   "source": [
    "username=\"admin\"\n",
    "password=\"admin01!\"\n",
    "host_name=\"localhost\"\n",
    "port=\"32010\"\n",
    "database = \"Dremio\"\n",
    "\n",
    "jdbc_legacy_url=f\"jdbc:dremio:direct={host_name}:31010?user={username}&password={password}&useEncryption=false\"\n",
    "jdbc_url = f\"jdbc:arrow-flight-sql://{host_name}:{port}?user={username}&password={password}&useEncryption=false\"\n",
    "\n",
    "jdbc_driver=\"org.apache.arrow.driver.jdbc.ArrowFlightJdbcDriver\"\n",
    "jdbc_legacy_driver=\"com.dremio.jdbc.Driver\"\n",
    "atoti_table_name=\"table_facts\""
   ]
  },
  {
   "cell_type": "code",
   "execution_count": 7,
   "id": "04405a51-cb8d-4931-a8e1-aa6c5bcbfd04",
   "metadata": {
    "tags": []
   },
   "outputs": [
    {
     "data": {
      "text/plain": [
       "'/Users/gpadya/Documents/dremio-driver/Python Dremio Demo'"
      ]
     },
     "execution_count": 7,
     "metadata": {},
     "output_type": "execute_result"
    }
   ],
   "source": [
    "os.getcwd()"
   ]
  },
  {
   "cell_type": "markdown",
   "id": "8d35aa6e-9c36-437e-be0b-f5ee0644cdfd",
   "metadata": {},
   "source": [
    "## Session"
   ]
  },
  {
   "cell_type": "code",
   "execution_count": 8,
   "id": "624f2cd6-9ac4-47db-94bb-c582369b1213",
   "metadata": {
    "tags": []
   },
   "outputs": [],
   "source": [
    "session = tt.Session(\n",
    "    port=9092,\n",
    "    user_content_storage = \"./Python Dremio Demo/content\",\n",
    "    java_options=[\n",
    "        \"-Xmx10g\",\n",
    "        \"-XX:MaxDirectMemorySize=20g\",\n",
    "        # \"-Dorg.springframework.boot.logging.LoggingSystem=none\"\n",
    "    ],\n",
    "    extra_jars=[f\"./utilities/extra_jars/{dremio_driver_jar}\",\n",
    "               f\"./utilities/extra_jars/{dremio_dialect_jar}\"],\n",
    "    logging=tt.LoggingConfig(destination=\"./logging/server.log\")\n",
    ")"
   ]
  },
  {
   "cell_type": "markdown",
   "id": "da103ef1-5408-4740-a4d0-1da28343634e",
   "metadata": {},
   "source": [
    "# Configuration of the Data model"
   ]
  },
  {
   "cell_type": "markdown",
   "id": "e63e4281-008d-41b3-8a8b-1657e16641a9",
   "metadata": {},
   "source": [
    "## Connect to Dremio and Create External DataStore"
   ]
  },
  {
   "cell_type": "code",
   "execution_count": 9,
   "id": "accfed8c-7e8b-43a6-ba72-bd2a2a13ecad",
   "metadata": {},
   "outputs": [],
   "source": [
    "from atoti_directquery_jdbc import JDBCConnectionInfo"
   ]
  },
  {
   "cell_type": "code",
   "execution_count": 10,
   "id": "b4d8bc1d-f65d-4359-abb2-d9e5089b2b4e",
   "metadata": {},
   "outputs": [],
   "source": [
    "from atoti_directquery_jdbc import (\n",
    "JDBCConnection, \n",
    "JDBCConnectionInfo,\n",
    "JDBCTable,\n",
    "JDBCTableOptions\n",
    ")"
   ]
  },
  {
   "cell_type": "code",
   "execution_count": 11,
   "id": "9a6eac48-4a4f-41b0-9258-24d8f8fbe760",
   "metadata": {},
   "outputs": [],
   "source": [
    "jdbc_url = f\"jdbc:arrow-flight-sql://{host_name}:{port}?user={username}&password={password}&useEncryption=false\""
   ]
  },
  {
   "cell_type": "code",
   "execution_count": 12,
   "id": "4b65fb04-4a9e-4d86-b41d-41cd37b4f772",
   "metadata": {},
   "outputs": [],
   "source": [
    "# jdbc_url = f\"jdbc:arrow-flight-sql://{host_name}:{port}?user={username}&useEncryption=false\""
   ]
  },
  {
   "cell_type": "code",
   "execution_count": 13,
   "id": "7ddea1c1-0b63-440b-b7c7-932c62d8c4f3",
   "metadata": {},
   "outputs": [],
   "source": [
    "connection_info=JDBCConnectionInfo(\n",
    "    jdbc_url,\n",
    "    sql_dialect_key=\"Dremio\",\n",
    "    # password=password,\n",
    "    password_parameter_name='password'\n",
    "    \n",
    ")\n",
    "external_database = session.connect_to_external_database(connection_info)"
   ]
  },
  {
   "cell_type": "code",
   "execution_count": 19,
   "id": "933b0613-51ef-4bae-9aab-ac5d8060cb81",
   "metadata": {},
   "outputs": [
    {
     "data": {
      "text/plain": [
       "<atoti_directquery_jdbc.connection.JDBCConnection at 0x15f1ceed0>"
      ]
     },
     "execution_count": 19,
     "metadata": {},
     "output_type": "execute_result"
    }
   ],
   "source": [
    "external_database."
   ]
  },
  {
   "cell_type": "markdown",
   "id": "0553b466-5a1c-4721-a720-f325f97f4284",
   "metadata": {},
   "source": [
    "## Set up DQ Tables"
   ]
  },
  {
   "cell_type": "code",
   "execution_count": 17,
   "id": "0bd851d0-0045-44db-96fb-fafc6212a95a",
   "metadata": {},
   "outputs": [],
   "source": [
    "table_facts_types= {\n",
    "    \"AsofDate\" : tt.LOCAL_DATE,\n",
    "    \"CUSIP\" : tt.STRING,\n",
    "    \"SectorCode\" : tt.STRING,\n",
    "    \"Strategy\" : tt.STRING,\n",
    "    \"MarketValue\" : tt.DOUBLE,\n",
    "    \"EffectiveDuration\" : tt.DOUBLE,\n",
    "    \"OptionAdjustedSpread\" : tt.DOUBLE,\n",
    "    \"LegalEntity\" : tt.STRING,\n",
    "    \"PortfolioTicker\" : tt.STRING,\n",
    "    \"OwnershipType\" : tt.STRING,\n",
    "    \"PercentWeight\" : tt.INT\n",
    "}"
   ]
  },
  {
   "cell_type": "code",
   "execution_count": 18,
   "id": "31e29993-78a0-45ff-9969-888a3f52b1dd",
   "metadata": {},
   "outputs": [
    {
     "ename": "Py4JJavaError",
     "evalue": "An error occurred while calling o17.getTables.\n: java.lang.NullPointerException\n\tat java.base/java.util.Objects.requireNonNull(Unknown Source)\n\tat java.base/java.util.ImmutableCollections$Map1.<init>(Unknown Source)\n\tat java.base/java.util.Map.ofEntries(Unknown Source)\n\tat java.base/java.util.stream.Collectors.lambda$toUnmodifiableMap$66(Unknown Source)\n\tat java.base/java.util.function.Function.lambda$andThen$1(Unknown Source)\n\tat java.base/java.util.stream.ReferencePipeline.collect(Unknown Source)\n\tat com.activeviam.tech.core.internal.util.CollectionUtil.mapValues(CollectionUtil.java:76)\n\tat io.atoti.runtime.private_.directquery.sql.ASqlDatabaseManager.toTableNames(ASqlDatabaseManager.java:390)\n\tat io.atoti.directquery.jdbc.private_.GenericJdbcManager.listTables(GenericJdbcManager.java:50)\n\tat io.atoti.runtime.private_.sql.ASqlDatabaseApi.getTables(ASqlDatabaseApi.java:83)\n\tat java.base/jdk.internal.reflect.DirectMethodHandleAccessor.invoke(Unknown Source)\n\tat java.base/java.lang.reflect.Method.invoke(Unknown Source)\n\tat py4j.reflection.MethodInvoker.invoke(MethodInvoker.java:244)\n\tat py4j.reflection.ReflectionEngine.invoke(ReflectionEngine.java:357)\n\tat py4j.Gateway.invoke(Gateway.java:282)\n\tat py4j.commands.AbstractCommand.invokeMethod(AbstractCommand.java:132)\n\tat py4j.commands.CallCommand.execute(CallCommand.java:79)\n\tat py4j.ClientServerConnection.waitForCommands(ClientServerConnection.java:182)\n\tat py4j.ClientServerConnection.run(ClientServerConnection.java:106)\n\tat java.base/java.lang.Thread.run(Unknown Source)\n",
     "output_type": "error",
     "traceback": [
      "\u001b[0;31m---------------------------------------------------------------------------\u001b[0m",
      "\u001b[0;31mPy4JJavaError\u001b[0m                             Traceback (most recent call last)",
      "Cell \u001b[0;32mIn[18], line 1\u001b[0m\n\u001b[0;32m----> 1\u001b[0m table_facts_db\u001b[38;5;241m=\u001b[39m\u001b[43mexternal_database\u001b[49m\u001b[38;5;241;43m.\u001b[39;49m\u001b[43mtables\u001b[49m[\u001b[38;5;124m'\u001b[39m\u001b[38;5;124mSampleData20240104\u001b[39m\u001b[38;5;124m'\u001b[39m]\n",
      "File \u001b[0;32m~/anaconda3/envs/atoti-0.9.0.20240507074627/lib/python3.12/site-packages/atoti/directquery/_external_database_connection.py:25\u001b[0m, in \u001b[0;36mExternalDatabaseConnection.tables\u001b[0;34m(self)\u001b[0m\n\u001b[1;32m     22\u001b[0m \u001b[38;5;129m@property\u001b[39m\n\u001b[1;32m     23\u001b[0m \u001b[38;5;28;01mdef\u001b[39;00m \u001b[38;5;21mtables\u001b[39m(\u001b[38;5;28mself\u001b[39m) \u001b[38;5;241m-\u001b[39m\u001b[38;5;241m>\u001b[39m ExternalTables[ExternalTableT_co]:\n\u001b[1;32m     24\u001b[0m \u001b[38;5;250m    \u001b[39m\u001b[38;5;124;03m\"\"\"Tables of the external database.\"\"\"\u001b[39;00m\n\u001b[0;32m---> 25\u001b[0m     table_descriptions \u001b[38;5;241m=\u001b[39m \u001b[38;5;28;43mself\u001b[39;49m\u001b[38;5;241;43m.\u001b[39;49m\u001b[43m_java_api\u001b[49m\u001b[38;5;241;43m.\u001b[39;49m\u001b[43mget_external_tables\u001b[49m\u001b[43m(\u001b[49m\u001b[38;5;28;43mself\u001b[39;49m\u001b[38;5;241;43m.\u001b[39;49m\u001b[43m_database_key\u001b[49m\u001b[43m)\u001b[49m\n\u001b[1;32m     26\u001b[0m     \u001b[38;5;28;01mreturn\u001b[39;00m ExternalTables(\n\u001b[1;32m     27\u001b[0m         _tables\u001b[38;5;241m=\u001b[39mtable_descriptions,\n\u001b[1;32m     28\u001b[0m         _create_table\u001b[38;5;241m=\u001b[39m\u001b[38;5;28;01mlambda\u001b[39;00m identifier: \u001b[38;5;28mself\u001b[39m\u001b[38;5;241m.\u001b[39m_discover_and_create_table(\n\u001b[0;32m   (...)\u001b[0m\n\u001b[1;32m     31\u001b[0m         _database_key\u001b[38;5;241m=\u001b[39m\u001b[38;5;28mself\u001b[39m\u001b[38;5;241m.\u001b[39m_database_key,\n\u001b[1;32m     32\u001b[0m     )\n",
      "File \u001b[0;32m~/anaconda3/envs/atoti-0.9.0.20240507074627/lib/python3.12/site-packages/atoti/_java_api.py:1994\u001b[0m, in \u001b[0;36mJavaApi.get_external_tables\u001b[0;34m(self, key)\u001b[0m\n\u001b[1;32m   1989\u001b[0m \u001b[38;5;28;01mdef\u001b[39;00m \u001b[38;5;21mget_external_tables\u001b[39m(\n\u001b[1;32m   1990\u001b[0m     \u001b[38;5;28mself\u001b[39m,\n\u001b[1;32m   1991\u001b[0m     key: \u001b[38;5;28mstr\u001b[39m,\n\u001b[1;32m   1992\u001b[0m     \u001b[38;5;241m/\u001b[39m,\n\u001b[1;32m   1993\u001b[0m ) \u001b[38;5;241m-\u001b[39m\u001b[38;5;241m>\u001b[39m \u001b[38;5;28mdict\u001b[39m[\u001b[38;5;28mstr\u001b[39m, \u001b[38;5;28mdict\u001b[39m[\u001b[38;5;28mstr\u001b[39m, \u001b[38;5;28mlist\u001b[39m[ExternalTableIdentifier]]]:\n\u001b[0;32m-> 1994\u001b[0m     result \u001b[38;5;241m=\u001b[39m \u001b[38;5;28;43mself\u001b[39;49m\u001b[38;5;241;43m.\u001b[39;49m\u001b[43mexternal_api\u001b[49m\u001b[43m(\u001b[49m\u001b[43mkey\u001b[49m\u001b[43m)\u001b[49m\u001b[38;5;241;43m.\u001b[39;49m\u001b[43mgetTables\u001b[49m\u001b[43m(\u001b[49m\u001b[43m)\u001b[49m\n\u001b[1;32m   1995\u001b[0m     \u001b[38;5;28;01mreturn\u001b[39;00m _convert_java_table_list(result)\n",
      "File \u001b[0;32m~/anaconda3/envs/atoti-0.9.0.20240507074627/lib/python3.12/site-packages/py4j/java_gateway.py:1322\u001b[0m, in \u001b[0;36mJavaMember.__call__\u001b[0;34m(self, *args)\u001b[0m\n\u001b[1;32m   1316\u001b[0m command \u001b[38;5;241m=\u001b[39m proto\u001b[38;5;241m.\u001b[39mCALL_COMMAND_NAME \u001b[38;5;241m+\u001b[39m\\\n\u001b[1;32m   1317\u001b[0m     \u001b[38;5;28mself\u001b[39m\u001b[38;5;241m.\u001b[39mcommand_header \u001b[38;5;241m+\u001b[39m\\\n\u001b[1;32m   1318\u001b[0m     args_command \u001b[38;5;241m+\u001b[39m\\\n\u001b[1;32m   1319\u001b[0m     proto\u001b[38;5;241m.\u001b[39mEND_COMMAND_PART\n\u001b[1;32m   1321\u001b[0m answer \u001b[38;5;241m=\u001b[39m \u001b[38;5;28mself\u001b[39m\u001b[38;5;241m.\u001b[39mgateway_client\u001b[38;5;241m.\u001b[39msend_command(command)\n\u001b[0;32m-> 1322\u001b[0m return_value \u001b[38;5;241m=\u001b[39m \u001b[43mget_return_value\u001b[49m\u001b[43m(\u001b[49m\n\u001b[1;32m   1323\u001b[0m \u001b[43m    \u001b[49m\u001b[43manswer\u001b[49m\u001b[43m,\u001b[49m\u001b[43m \u001b[49m\u001b[38;5;28;43mself\u001b[39;49m\u001b[38;5;241;43m.\u001b[39;49m\u001b[43mgateway_client\u001b[49m\u001b[43m,\u001b[49m\u001b[43m \u001b[49m\u001b[38;5;28;43mself\u001b[39;49m\u001b[38;5;241;43m.\u001b[39;49m\u001b[43mtarget_id\u001b[49m\u001b[43m,\u001b[49m\u001b[43m \u001b[49m\u001b[38;5;28;43mself\u001b[39;49m\u001b[38;5;241;43m.\u001b[39;49m\u001b[43mname\u001b[49m\u001b[43m)\u001b[49m\n\u001b[1;32m   1325\u001b[0m \u001b[38;5;28;01mfor\u001b[39;00m temp_arg \u001b[38;5;129;01min\u001b[39;00m temp_args:\n\u001b[1;32m   1326\u001b[0m     \u001b[38;5;28;01mif\u001b[39;00m \u001b[38;5;28mhasattr\u001b[39m(temp_arg, \u001b[38;5;124m\"\u001b[39m\u001b[38;5;124m_detach\u001b[39m\u001b[38;5;124m\"\u001b[39m):\n",
      "File \u001b[0;32m~/anaconda3/envs/atoti-0.9.0.20240507074627/lib/python3.12/site-packages/py4j/protocol.py:326\u001b[0m, in \u001b[0;36mget_return_value\u001b[0;34m(answer, gateway_client, target_id, name)\u001b[0m\n\u001b[1;32m    324\u001b[0m value \u001b[38;5;241m=\u001b[39m OUTPUT_CONVERTER[\u001b[38;5;28mtype\u001b[39m](answer[\u001b[38;5;241m2\u001b[39m:], gateway_client)\n\u001b[1;32m    325\u001b[0m \u001b[38;5;28;01mif\u001b[39;00m answer[\u001b[38;5;241m1\u001b[39m] \u001b[38;5;241m==\u001b[39m REFERENCE_TYPE:\n\u001b[0;32m--> 326\u001b[0m     \u001b[38;5;28;01mraise\u001b[39;00m Py4JJavaError(\n\u001b[1;32m    327\u001b[0m         \u001b[38;5;124m\"\u001b[39m\u001b[38;5;124mAn error occurred while calling \u001b[39m\u001b[38;5;132;01m{0}\u001b[39;00m\u001b[38;5;132;01m{1}\u001b[39;00m\u001b[38;5;132;01m{2}\u001b[39;00m\u001b[38;5;124m.\u001b[39m\u001b[38;5;130;01m\\n\u001b[39;00m\u001b[38;5;124m\"\u001b[39m\u001b[38;5;241m.\u001b[39m\n\u001b[1;32m    328\u001b[0m         \u001b[38;5;28mformat\u001b[39m(target_id, \u001b[38;5;124m\"\u001b[39m\u001b[38;5;124m.\u001b[39m\u001b[38;5;124m\"\u001b[39m, name), value)\n\u001b[1;32m    329\u001b[0m \u001b[38;5;28;01melse\u001b[39;00m:\n\u001b[1;32m    330\u001b[0m     \u001b[38;5;28;01mraise\u001b[39;00m Py4JError(\n\u001b[1;32m    331\u001b[0m         \u001b[38;5;124m\"\u001b[39m\u001b[38;5;124mAn error occurred while calling \u001b[39m\u001b[38;5;132;01m{0}\u001b[39;00m\u001b[38;5;132;01m{1}\u001b[39;00m\u001b[38;5;132;01m{2}\u001b[39;00m\u001b[38;5;124m. Trace:\u001b[39m\u001b[38;5;130;01m\\n\u001b[39;00m\u001b[38;5;132;01m{3}\u001b[39;00m\u001b[38;5;130;01m\\n\u001b[39;00m\u001b[38;5;124m\"\u001b[39m\u001b[38;5;241m.\u001b[39m\n\u001b[1;32m    332\u001b[0m         \u001b[38;5;28mformat\u001b[39m(target_id, \u001b[38;5;124m\"\u001b[39m\u001b[38;5;124m.\u001b[39m\u001b[38;5;124m\"\u001b[39m, name, value))\n",
      "\u001b[0;31mPy4JJavaError\u001b[0m: An error occurred while calling o17.getTables.\n: java.lang.NullPointerException\n\tat java.base/java.util.Objects.requireNonNull(Unknown Source)\n\tat java.base/java.util.ImmutableCollections$Map1.<init>(Unknown Source)\n\tat java.base/java.util.Map.ofEntries(Unknown Source)\n\tat java.base/java.util.stream.Collectors.lambda$toUnmodifiableMap$66(Unknown Source)\n\tat java.base/java.util.function.Function.lambda$andThen$1(Unknown Source)\n\tat java.base/java.util.stream.ReferencePipeline.collect(Unknown Source)\n\tat com.activeviam.tech.core.internal.util.CollectionUtil.mapValues(CollectionUtil.java:76)\n\tat io.atoti.runtime.private_.directquery.sql.ASqlDatabaseManager.toTableNames(ASqlDatabaseManager.java:390)\n\tat io.atoti.directquery.jdbc.private_.GenericJdbcManager.listTables(GenericJdbcManager.java:50)\n\tat io.atoti.runtime.private_.sql.ASqlDatabaseApi.getTables(ASqlDatabaseApi.java:83)\n\tat java.base/jdk.internal.reflect.DirectMethodHandleAccessor.invoke(Unknown Source)\n\tat java.base/java.lang.reflect.Method.invoke(Unknown Source)\n\tat py4j.reflection.MethodInvoker.invoke(MethodInvoker.java:244)\n\tat py4j.reflection.ReflectionEngine.invoke(ReflectionEngine.java:357)\n\tat py4j.Gateway.invoke(Gateway.java:282)\n\tat py4j.commands.AbstractCommand.invokeMethod(AbstractCommand.java:132)\n\tat py4j.commands.CallCommand.execute(CallCommand.java:79)\n\tat py4j.ClientServerConnection.waitForCommands(ClientServerConnection.java:182)\n\tat py4j.ClientServerConnection.run(ClientServerConnection.java:106)\n\tat java.base/java.lang.Thread.run(Unknown Source)\n"
     ]
    }
   ],
   "source": [
    "table_facts_db=external_database.tables['SampleData20240104']"
   ]
  },
  {
   "cell_type": "code",
   "execution_count": null,
   "id": "739d8172-1769-4be6-aa60-d4910d816c76",
   "metadata": {},
   "outputs": [],
   "source": [
    "table_facts=session.add_external_table(table_facts_db)\n",
    "table_facts.head(10)"
   ]
  },
  {
   "cell_type": "code",
   "execution_count": null,
   "id": "85c817bc-1fd5-4ef0-bb6b-4034e8563b1d",
   "metadata": {
    "scrolled": true
   },
   "outputs": [],
   "source": [
    "session.tables.schema"
   ]
  },
  {
   "cell_type": "markdown",
   "id": "87095bac-28a2-40af-b28f-61b07a1f7bb7",
   "metadata": {},
   "source": [
    "## Create Cube"
   ]
  },
  {
   "cell_type": "code",
   "execution_count": null,
   "id": "9bc7795b-3279-40a7-b1ce-f449eacad957",
   "metadata": {},
   "outputs": [],
   "source": [
    "cube = session.create_cube(table_facts, name=\"facts\", mode=\"no_measures\")\n",
    "h, l, m = cube.hierarchies, cube.levels, cube.measures"
   ]
  },
  {
   "cell_type": "markdown",
   "id": "ffc144d3-6c7c-4a22-bb72-1a925b7878a9",
   "metadata": {},
   "source": [
    "### Clean Up Hierarchies"
   ]
  },
  {
   "cell_type": "code",
   "execution_count": null,
   "id": "5eab9584-8e41-4079-9cc9-4d581be2c75c",
   "metadata": {
    "scrolled": true
   },
   "outputs": [],
   "source": [
    "# del(h['MarketValue'],h['EffectiveDuration'], h['OptionAdjustedSpread'], h['PercentWeight'])"
   ]
  },
  {
   "cell_type": "markdown",
   "id": "c272c770-066f-4be7-ba2e-989ccfbff594",
   "metadata": {},
   "source": [
    "## Add Measures"
   ]
  },
  {
   "cell_type": "code",
   "execution_count": null,
   "id": "981e9ced-0b04-49e7-81b0-0473dba395ce",
   "metadata": {},
   "outputs": [],
   "source": [
    "%%time\n",
    "m[\"MarketValue\"] = tt.agg.sum(table_facts[\"MarketValue\"])\n",
    "m[\"EffectiveDuration\"] = tt.agg.sum(table_facts[\"EffectiveDuration\"])\n",
    "m[\"EffectiveDuration\"] = tt.agg.sum(table_facts[\"EffectiveDuration\"])\n",
    "m[\"OptionAdjustedSpread\"] = tt.agg.sum(table_facts[\"OptionAdjustedSpread\"])\n",
    "m[\"PercentWeight\"] = tt.agg.sum(table_facts[\"PercentWeight\"])"
   ]
  },
  {
   "cell_type": "code",
   "execution_count": null,
   "id": "c5f03101-c69a-457d-8d36-dcc7cfbb6a7e",
   "metadata": {},
   "outputs": [],
   "source": [
    "%%time\n",
    "m[\"MV Duration\"] = tt.agg.sum_product(\n",
    "    table_facts[\"MarketValue\"],table_facts[\"EffectiveDuration\"],table_facts[\"PercentWeight\"])"
   ]
  },
  {
   "cell_type": "code",
   "execution_count": null,
   "id": "f490f081-2ef6-4daf-b050-d607beda7e27",
   "metadata": {},
   "outputs": [],
   "source": [
    "%%time\n",
    "m[\"MV PercentWeight\"] = tt.agg.sum_product(table_facts[\"MarketValue\"],table_facts[\"PercentWeight\"])"
   ]
  },
  {
   "cell_type": "code",
   "execution_count": null,
   "id": "2e709a21-b0ec-4b1c-abfd-cc3309a22f33",
   "metadata": {},
   "outputs": [],
   "source": [
    "%%time\n",
    "m[\"MV OAS\"] = tt.agg.sum_product(table_facts[\"MarketValue\"],table_facts[\"OptionAdjustedSpread\"],table_facts[\"PercentWeight\"])"
   ]
  },
  {
   "cell_type": "code",
   "execution_count": null,
   "id": "63528e59-54fe-4c04-b5c3-faa28164c3fd",
   "metadata": {},
   "outputs": [],
   "source": [
    "%%time\n",
    "m[\"Weighted Average Duration\"] = tt.where(m[\"MV PercentWeight\"] == 0, 0, m[\"MV Duration\"]/m[\"MV PercentWeight\"])"
   ]
  },
  {
   "cell_type": "code",
   "execution_count": null,
   "id": "716495fc-b4d9-452b-98a1-d63db41401a3",
   "metadata": {},
   "outputs": [],
   "source": [
    "%%time\n",
    "m[\"Weighted Average Duration OAS\"] = tt.where(m[\"MV PercentWeight\"] == 0, 0, m[\"MV OAS\"]/m[\"MV PercentWeight\"])"
   ]
  },
  {
   "cell_type": "markdown",
   "id": "669701b7-fc93-4835-86b5-c9dbd7be8a66",
   "metadata": {},
   "source": [
    "## Link to UI"
   ]
  },
  {
   "cell_type": "code",
   "execution_count": null,
   "id": "886b6618-c11c-44f5-b963-d0a57b8ded44",
   "metadata": {},
   "outputs": [],
   "source": [
    "session.link"
   ]
  }
 ],
 "metadata": {
  "kernelspec": {
   "display_name": "Python 3 (ipykernel)",
   "language": "python",
   "name": "python3"
  },
  "language_info": {
   "codemirror_mode": {
    "name": "ipython",
    "version": 3
   },
   "file_extension": ".py",
   "mimetype": "text/x-python",
   "name": "python",
   "nbconvert_exporter": "python",
   "pygments_lexer": "ipython3",
   "version": "3.12.3"
  }
 },
 "nbformat": 4,
 "nbformat_minor": 5
}
