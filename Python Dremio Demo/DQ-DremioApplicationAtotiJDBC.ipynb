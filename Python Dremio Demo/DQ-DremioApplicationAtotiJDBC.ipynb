{
 "cells": [
  {
   "cell_type": "markdown",
   "id": "a52bff83-6b89-4ffa-b714-62078f09fae9",
   "metadata": {},
   "source": [
    "# Dremio Test"
   ]
  },
  {
   "cell_type": "markdown",
   "id": "75f8c787-77b2-45e2-bf10-eed4c06a0703",
   "metadata": {},
   "source": [
    "## Setting up dremio\n"
   ]
  },
  {
   "cell_type": "markdown",
   "id": "a9a99865-82f7-43eb-9045-154f4bf3e536",
   "metadata": {},
   "source": [
    "## Imports"
   ]
  },
  {
   "cell_type": "code",
   "execution_count": 1,
   "id": "2399568a-4b30-4c39-8034-a93efa947bef",
   "metadata": {
    "tags": []
   },
   "outputs": [],
   "source": [
    "import os\n",
    "import sys\n",
    "import atoti as tt"
   ]
  },
  {
   "cell_type": "code",
   "execution_count": 2,
   "id": "b996e0bc-1038-44aa-8b34-07f0cf6fcef3",
   "metadata": {
    "tags": []
   },
   "outputs": [],
   "source": [
    "import pandas as pd"
   ]
  },
  {
   "cell_type": "markdown",
   "id": "054efd9c-face-417e-b013-9038da2863bf",
   "metadata": {},
   "source": [
    "Make sure you are running a version of atoti older than 0.8.10. This has been tested on 0.8.5"
   ]
  },
  {
   "cell_type": "code",
   "execution_count": 3,
   "id": "1fd36b55-fdbf-40da-a8a2-fa3eea299dac",
   "metadata": {
    "tags": []
   },
   "outputs": [
    {
     "data": {
      "text/plain": [
       "'0.9.0.4972.20240510095356'"
      ]
     },
     "execution_count": 3,
     "metadata": {},
     "output_type": "execute_result"
    }
   ],
   "source": [
    "tt._version.VERSION"
   ]
  },
  {
   "cell_type": "markdown",
   "id": "e4e40804-a511-4eea-99ee-51d37796f8e4",
   "metadata": {},
   "source": [
    "### Jar Input"
   ]
  },
  {
   "cell_type": "code",
   "execution_count": 4,
   "id": "42a13610-2958-49e2-883c-25557fc7f53a",
   "metadata": {},
   "outputs": [],
   "source": [
    "dremio_driver_jar=\"flight-sql-jdbc-driver-15.0.0.jar\"\n",
    "dremio_dialect_jar=\"dremio-dialect-0.2.0.jar\""
   ]
  },
  {
   "cell_type": "markdown",
   "id": "c98a09ba-faea-4692-b359-3835a8decbfc",
   "metadata": {},
   "source": [
    "### SQL Setup"
   ]
  },
  {
   "cell_type": "code",
   "execution_count": 5,
   "id": "760dab1d-f68d-4e4a-a99b-fae7d49bf64e",
   "metadata": {
    "tags": []
   },
   "outputs": [],
   "source": [
    "schema_name='\"@admin\"'\n",
    "db_table_name='SampleData20240104'\n",
    "sql = f\"SELECT * FROM {schema_name}.{db_table_name}\""
   ]
  },
  {
   "cell_type": "markdown",
   "id": "55f1b384-46f2-461d-a3b0-973e18e8769a",
   "metadata": {},
   "source": [
    "### Database setup"
   ]
  },
  {
   "cell_type": "code",
   "execution_count": 6,
   "id": "27c5ec24-7f34-4413-981a-a1f0cb9cf372",
   "metadata": {
    "tags": []
   },
   "outputs": [],
   "source": [
    "username=\"admin\"\n",
    "password=\"admin01!\"\n",
    "host_name=\"localhost\"\n",
    "port=\"32010\"\n",
    "database = \"Dremio\"\n",
    "\n",
    "jdbc_legacy_url=f\"jdbc:dremio:direct={host_name}:31010?user={username}&password={password}&useEncryption=false\"\n",
    "jdbc_url = f\"jdbc:arrow-flight-sql://{host_name}:{port}?user={username}&password={password}&useEncryption=false\"\n",
    "\n",
    "jdbc_driver=\"org.apache.arrow.driver.jdbc.ArrowFlightJdbcDriver\"\n",
    "jdbc_legacy_driver=\"com.dremio.jdbc.Driver\"\n",
    "atoti_table_name=\"table_facts\""
   ]
  },
  {
   "cell_type": "code",
   "execution_count": 7,
   "id": "04405a51-cb8d-4931-a8e1-aa6c5bcbfd04",
   "metadata": {
    "tags": []
   },
   "outputs": [
    {
     "data": {
      "text/plain": [
       "'/Users/gpadya/Documents/dremio-driver/Python Dremio Demo'"
      ]
     },
     "execution_count": 7,
     "metadata": {},
     "output_type": "execute_result"
    }
   ],
   "source": [
    "os.getcwd()"
   ]
  },
  {
   "cell_type": "markdown",
   "id": "8d35aa6e-9c36-437e-be0b-f5ee0644cdfd",
   "metadata": {},
   "source": [
    "## Session"
   ]
  },
  {
   "cell_type": "code",
   "execution_count": 8,
   "id": "624f2cd6-9ac4-47db-94bb-c582369b1213",
   "metadata": {
    "tags": []
   },
   "outputs": [],
   "source": [
    "session = tt.Session(\n",
    "    port=9092,\n",
    "    user_content_storage = \"./Python Dremio Demo/content\",\n",
    "    java_options=[\n",
    "        \"-Xmx10g\",\n",
    "        \"-XX:MaxDirectMemorySize=20g\",\n",
    "        # \"-Dorg.springframework.boot.logging.LoggingSystem=none\"\n",
    "    ],\n",
    "    extra_jars=[f\"./utilities/extra_jars/{dremio_driver_jar}\",\n",
    "               f\"./utilities/extra_jars/{dremio_dialect_jar}\"],\n",
    "    logging=tt.LoggingConfig(destination=\"./logging/server.log\")\n",
    ")"
   ]
  },
  {
   "cell_type": "markdown",
   "id": "da103ef1-5408-4740-a4d0-1da28343634e",
   "metadata": {},
   "source": [
    "# Configuration of the Data model"
   ]
  },
  {
   "cell_type": "markdown",
   "id": "e63e4281-008d-41b3-8a8b-1657e16641a9",
   "metadata": {},
   "source": [
    "## Connect to Dremio and Create External DataStore"
   ]
  },
  {
   "cell_type": "code",
   "execution_count": 9,
   "id": "accfed8c-7e8b-43a6-ba72-bd2a2a13ecad",
   "metadata": {},
   "outputs": [],
   "source": [
    "from atoti_directquery_jdbc import JDBCConnectionInfo"
   ]
  },
  {
   "cell_type": "code",
   "execution_count": 10,
   "id": "b4d8bc1d-f65d-4359-abb2-d9e5089b2b4e",
   "metadata": {},
   "outputs": [],
   "source": [
    "from atoti_directquery_jdbc import (\n",
    "JDBCConnection, \n",
    "JDBCConnectionInfo,\n",
    "JDBCTable,\n",
    "JDBCTableOptions\n",
    ")"
   ]
  },
  {
   "cell_type": "code",
   "execution_count": 11,
   "id": "9a6eac48-4a4f-41b0-9258-24d8f8fbe760",
   "metadata": {},
   "outputs": [],
   "source": [
    "jdbc_url = f\"jdbc:arrow-flight-sql://{host_name}:{port}?user={username}&password={password}&useEncryption=false\""
   ]
  },
  {
   "cell_type": "code",
   "execution_count": 12,
   "id": "4b65fb04-4a9e-4d86-b41d-41cd37b4f772",
   "metadata": {},
   "outputs": [],
   "source": [
    "# jdbc_url = f\"jdbc:arrow-flight-sql://{host_name}:{port}?user={username}&useEncryption=false\""
   ]
  },
  {
   "cell_type": "code",
   "execution_count": 13,
   "id": "7ddea1c1-0b63-440b-b7c7-932c62d8c4f3",
   "metadata": {},
   "outputs": [],
   "source": [
    "connection_info=JDBCConnectionInfo(\n",
    "    jdbc_url,\n",
    "    sql_dialect_key=\"Dremio\",\n",
    "    # password=password,\n",
    "    password_parameter_name='password'\n",
    "    \n",
    ")\n",
    "external_database = session.connect_to_external_database(connection_info)"
   ]
  },
  {
   "cell_type": "code",
   "execution_count": 14,
   "id": "933b0613-51ef-4bae-9aab-ac5d8060cb81",
   "metadata": {},
   "outputs": [
    {
     "data": {
      "application/json": {
       "null": {
        "@admin": [
         "SampleData20240104",
         "vw_SampleData20240104"
        ],
        "INFORMATION_SCHEMA": [
         "CATALOGS",
         "COLUMNS",
         "SCHEMATA",
         "TABLES",
         "VIEWS"
        ],
        "sys": [
         "boot",
         "fragments",
         "jobs",
         "jobs_recent",
         "materializations",
         "membership",
         "memory",
         "nodes",
         "options",
         "privileges",
         "reflection_dependencies",
         "reflections",
         "refreshes",
         "roles",
         "services",
         "slicing_threads",
         "table_statistics",
         "threads",
         "timezone_abbrevs",
         "timezone_names",
         "user_defined_functions",
         "version"
        ],
        "sys.cache": [
         "datasets",
         "mount_points",
         "objects",
         "storage_plugins"
        ]
       }
      },
      "text/html": [
       "<ul>\n",
       "<li>GENERIC_JDBC\n",
       "  <ul>\n",
       "  <li>None\n",
       "    <ul>\n",
       "    <li>@admin\n",
       "      <ol>\n",
       "      <li>SampleData20240104</li>\n",
       "      <li>vw_SampleData20240104</li>\n",
       "      </ol>    </li>\n",
       "    <li>INFORMATION_SCHEMA\n",
       "      <ol>\n",
       "      <li>CATALOGS</li>\n",
       "      <li>COLUMNS</li>\n",
       "      <li>SCHEMATA</li>\n",
       "      <li>TABLES</li>\n",
       "      <li>VIEWS</li>\n",
       "      </ol>    </li>\n",
       "    <li>sys.cache\n",
       "      <ol>\n",
       "      <li>datasets</li>\n",
       "      <li>mount_points</li>\n",
       "      <li>objects</li>\n",
       "      <li>storage_plugins</li>\n",
       "      </ol>    </li>\n",
       "    <li>sys\n",
       "      <ol>\n",
       "      <li>boot</li>\n",
       "      <li>fragments</li>\n",
       "      <li>jobs</li>\n",
       "      <li>jobs_recent</li>\n",
       "      <li>materializations</li>\n",
       "      <li>membership</li>\n",
       "      <li>memory</li>\n",
       "      <li>nodes</li>\n",
       "      <li>options</li>\n",
       "      <li>privileges</li>\n",
       "      <li>reflection_dependencies</li>\n",
       "      <li>reflections</li>\n",
       "      <li>refreshes</li>\n",
       "      <li>roles</li>\n",
       "      <li>services</li>\n",
       "      <li>slicing_threads</li>\n",
       "      <li>table_statistics</li>\n",
       "      <li>threads</li>\n",
       "      <li>timezone_abbrevs</li>\n",
       "      <li>timezone_names</li>\n",
       "      <li>user_defined_functions</li>\n",
       "      <li>version</li>\n",
       "      </ol>    </li>\n",
       "    </ul>\n",
       "  </li>\n",
       "  </ul>\n",
       "</li>\n",
       "</ul>\n"
      ],
      "text/plain": [
       "<atoti.directquery.external_tables.ExternalTables at 0x13a4df3b0>"
      ]
     },
     "execution_count": 14,
     "metadata": {
      "application/json": {
       "expanded": false,
       "root": "GENERIC_JDBC"
      }
     },
     "output_type": "execute_result"
    }
   ],
   "source": [
    "external_database.tables"
   ]
  },
  {
   "cell_type": "markdown",
   "id": "0553b466-5a1c-4721-a720-f325f97f4284",
   "metadata": {},
   "source": [
    "## Set up DQ Tables"
   ]
  },
  {
   "cell_type": "code",
   "execution_count": 15,
   "id": "4b026619-5ae2-4c52-a41b-e6dd052fc110",
   "metadata": {},
   "outputs": [],
   "source": [
    "table_facts=session.add_external_table(external_database.tables['vw_SampleData20240104'])"
   ]
  },
  {
   "cell_type": "code",
   "execution_count": 16,
   "id": "0bd851d0-0045-44db-96fb-fafc6212a95a",
   "metadata": {
    "jupyter": {
     "source_hidden": true
    }
   },
   "outputs": [],
   "source": [
    "# table_facts_types= {\n",
    "#     \"AsofDate\" : tt.LOCAL_DATE,\n",
    "#     \"CUSIP\" : tt.STRING,\n",
    "#     \"SectorCode\" : tt.STRING,\n",
    "#     \"Strategy\" : tt.STRING,\n",
    "#     \"MarketValue\" : tt.DOUBLE,\n",
    "#     \"EffectiveDuration\" : tt.DOUBLE,\n",
    "#     \"OptionAdjustedSpread\" : tt.DOUBLE,\n",
    "#     \"LegalEntity\" : tt.STRING,\n",
    "#     \"PortfolioTicker\" : tt.STRING,\n",
    "#     \"OwnershipType\" : tt.STRING,\n",
    "#     \"PercentWeight\" : tt.INT\n",
    "# }"
   ]
  },
  {
   "cell_type": "code",
   "execution_count": 17,
   "id": "739d8172-1769-4be6-aa60-d4910d816c76",
   "metadata": {},
   "outputs": [
    {
     "data": {
      "text/html": [
       "<div>\n",
       "<style scoped>\n",
       "    .dataframe tbody tr th:only-of-type {\n",
       "        vertical-align: middle;\n",
       "    }\n",
       "\n",
       "    .dataframe tbody tr th {\n",
       "        vertical-align: top;\n",
       "    }\n",
       "\n",
       "    .dataframe thead th {\n",
       "        text-align: right;\n",
       "    }\n",
       "</style>\n",
       "<table border=\"1\" class=\"dataframe\">\n",
       "  <thead>\n",
       "    <tr style=\"text-align: right;\">\n",
       "      <th></th>\n",
       "      <th>AsofDate</th>\n",
       "      <th>CUSIP</th>\n",
       "      <th>SectorCode</th>\n",
       "      <th>Strategy</th>\n",
       "      <th>MarketValue</th>\n",
       "      <th>EffectiveDuration</th>\n",
       "      <th>OptionAdjustedSpread</th>\n",
       "      <th>LegalEntity</th>\n",
       "      <th>PortfolioTicker</th>\n",
       "      <th>OwnershipType</th>\n",
       "      <th>PercentWeight</th>\n",
       "    </tr>\n",
       "  </thead>\n",
       "  <tbody>\n",
       "    <tr>\n",
       "      <th>0</th>\n",
       "      <td>2024-01-04</td>\n",
       "      <td>91282CFV8</td>\n",
       "      <td>Peaches</td>\n",
       "      <td>Paris</td>\n",
       "      <td>17042127.4</td>\n",
       "      <td>8.809704</td>\n",
       "      <td>3.81681</td>\n",
       "      <td>GEA_BM</td>\n",
       "      <td>NEABMLCWF</td>\n",
       "      <td>Passive</td>\n",
       "      <td>1.0</td>\n",
       "    </tr>\n",
       "    <tr>\n",
       "      <th>1</th>\n",
       "      <td>2024-01-04</td>\n",
       "      <td>91282CFV8</td>\n",
       "      <td>Peaches</td>\n",
       "      <td>Paris</td>\n",
       "      <td>17042127.4</td>\n",
       "      <td>8.809704</td>\n",
       "      <td>3.81681</td>\n",
       "      <td>GEA_BM</td>\n",
       "      <td>NEABMLCWF</td>\n",
       "      <td>Active</td>\n",
       "      <td>1.0</td>\n",
       "    </tr>\n",
       "    <tr>\n",
       "      <th>2</th>\n",
       "      <td>2024-01-04</td>\n",
       "      <td>91282CEV9</td>\n",
       "      <td>Peaches</td>\n",
       "      <td>Paris</td>\n",
       "      <td>6743085.93</td>\n",
       "      <td>5.95656</td>\n",
       "      <td>0.0</td>\n",
       "      <td>GEA_BM</td>\n",
       "      <td>NEABMLCWF</td>\n",
       "      <td>Passive</td>\n",
       "      <td>1.0</td>\n",
       "    </tr>\n",
       "    <tr>\n",
       "      <th>3</th>\n",
       "      <td>2024-01-04</td>\n",
       "      <td>91282CEV9</td>\n",
       "      <td>Peaches</td>\n",
       "      <td>Paris</td>\n",
       "      <td>6743085.93</td>\n",
       "      <td>5.95656</td>\n",
       "      <td>0.0</td>\n",
       "      <td>GEA_BM</td>\n",
       "      <td>NEABMLCWF</td>\n",
       "      <td>Active</td>\n",
       "      <td>1.0</td>\n",
       "    </tr>\n",
       "    <tr>\n",
       "      <th>4</th>\n",
       "      <td>2024-01-04</td>\n",
       "      <td>91282CFT3</td>\n",
       "      <td>Peaches</td>\n",
       "      <td>Paris</td>\n",
       "      <td>12553750.93</td>\n",
       "      <td>6.138696</td>\n",
       "      <td>0.12888</td>\n",
       "      <td>GEA_BM</td>\n",
       "      <td>NEABMLCWF</td>\n",
       "      <td>Passive</td>\n",
       "      <td>1.0</td>\n",
       "    </tr>\n",
       "    <tr>\n",
       "      <th>5</th>\n",
       "      <td>2024-01-04</td>\n",
       "      <td>91282CFT3</td>\n",
       "      <td>Peaches</td>\n",
       "      <td>Paris</td>\n",
       "      <td>12553750.93</td>\n",
       "      <td>6.138696</td>\n",
       "      <td>0.12888</td>\n",
       "      <td>GEA_BM</td>\n",
       "      <td>NEABMLCWF</td>\n",
       "      <td>Active</td>\n",
       "      <td>1.0</td>\n",
       "    </tr>\n",
       "    <tr>\n",
       "      <th>6</th>\n",
       "      <td>2024-01-04</td>\n",
       "      <td>ZXW2J9PF8</td>\n",
       "      <td>Pineapples</td>\n",
       "      <td>Paris</td>\n",
       "      <td>2287540.51</td>\n",
       "      <td>2.80962</td>\n",
       "      <td>36.01908</td>\n",
       "      <td>GEA_BM</td>\n",
       "      <td>NEABMLCWF</td>\n",
       "      <td>Passive</td>\n",
       "      <td>1.0</td>\n",
       "    </tr>\n",
       "    <tr>\n",
       "      <th>7</th>\n",
       "      <td>2024-01-04</td>\n",
       "      <td>ZXW2J9PF8</td>\n",
       "      <td>Pineapples</td>\n",
       "      <td>Paris</td>\n",
       "      <td>2287540.51</td>\n",
       "      <td>2.80962</td>\n",
       "      <td>36.01908</td>\n",
       "      <td>GEA_BM</td>\n",
       "      <td>NEABMLCWF</td>\n",
       "      <td>Active</td>\n",
       "      <td>1.0</td>\n",
       "    </tr>\n",
       "    <tr>\n",
       "      <th>8</th>\n",
       "      <td>2024-01-04</td>\n",
       "      <td>91282CGC9</td>\n",
       "      <td>Peaches</td>\n",
       "      <td>Paris</td>\n",
       "      <td>7935307.75</td>\n",
       "      <td>4.391112</td>\n",
       "      <td>0.0</td>\n",
       "      <td>GEA_BM</td>\n",
       "      <td>NEABMLCWF</td>\n",
       "      <td>Passive</td>\n",
       "      <td>1.0</td>\n",
       "    </tr>\n",
       "    <tr>\n",
       "      <th>9</th>\n",
       "      <td>2024-01-04</td>\n",
       "      <td>91282CGC9</td>\n",
       "      <td>Peaches</td>\n",
       "      <td>Paris</td>\n",
       "      <td>7935307.75</td>\n",
       "      <td>4.391112</td>\n",
       "      <td>0.0</td>\n",
       "      <td>GEA_BM</td>\n",
       "      <td>NEABMLCWF</td>\n",
       "      <td>Active</td>\n",
       "      <td>1.0</td>\n",
       "    </tr>\n",
       "  </tbody>\n",
       "</table>\n",
       "</div>"
      ],
      "text/plain": [
       "    AsofDate      CUSIP  SectorCode Strategy  MarketValue  EffectiveDuration  \\\n",
       "0 2024-01-04  91282CFV8     Peaches    Paris   17042127.4           8.809704   \n",
       "1 2024-01-04  91282CFV8     Peaches    Paris   17042127.4           8.809704   \n",
       "2 2024-01-04  91282CEV9     Peaches    Paris   6743085.93            5.95656   \n",
       "3 2024-01-04  91282CEV9     Peaches    Paris   6743085.93            5.95656   \n",
       "4 2024-01-04  91282CFT3     Peaches    Paris  12553750.93           6.138696   \n",
       "5 2024-01-04  91282CFT3     Peaches    Paris  12553750.93           6.138696   \n",
       "6 2024-01-04  ZXW2J9PF8  Pineapples    Paris   2287540.51            2.80962   \n",
       "7 2024-01-04  ZXW2J9PF8  Pineapples    Paris   2287540.51            2.80962   \n",
       "8 2024-01-04  91282CGC9     Peaches    Paris   7935307.75           4.391112   \n",
       "9 2024-01-04  91282CGC9     Peaches    Paris   7935307.75           4.391112   \n",
       "\n",
       "   OptionAdjustedSpread LegalEntity PortfolioTicker OwnershipType  \\\n",
       "0               3.81681      GEA_BM       NEABMLCWF       Passive   \n",
       "1               3.81681      GEA_BM       NEABMLCWF        Active   \n",
       "2                   0.0      GEA_BM       NEABMLCWF       Passive   \n",
       "3                   0.0      GEA_BM       NEABMLCWF        Active   \n",
       "4               0.12888      GEA_BM       NEABMLCWF       Passive   \n",
       "5               0.12888      GEA_BM       NEABMLCWF        Active   \n",
       "6              36.01908      GEA_BM       NEABMLCWF       Passive   \n",
       "7              36.01908      GEA_BM       NEABMLCWF        Active   \n",
       "8                   0.0      GEA_BM       NEABMLCWF       Passive   \n",
       "9                   0.0      GEA_BM       NEABMLCWF        Active   \n",
       "\n",
       "   PercentWeight  \n",
       "0            1.0  \n",
       "1            1.0  \n",
       "2            1.0  \n",
       "3            1.0  \n",
       "4            1.0  \n",
       "5            1.0  \n",
       "6            1.0  \n",
       "7            1.0  \n",
       "8            1.0  \n",
       "9            1.0  "
      ]
     },
     "execution_count": 17,
     "metadata": {},
     "output_type": "execute_result"
    }
   ],
   "source": [
    "# table_facts=session.add_external_table(table_facts_db)\n",
    "table_facts.head(10)"
   ]
  },
  {
   "cell_type": "code",
   "execution_count": 18,
   "id": "85c817bc-1fd5-4ef0-bb6b-4034e8563b1d",
   "metadata": {
    "scrolled": true
   },
   "outputs": [
    {
     "data": {
      "text/markdown": [
       "```mermaid\n",
       "erDiagram\n",
       "  \"vw_SampleData20240104\" {\n",
       "    _ LocalDate \"AsofDate\"\n",
       "    _ String \"CUSIP\"\n",
       "    _ String \"SectorCode\"\n",
       "    _ String \"Strategy\"\n",
       "    nullable double \"MarketValue\"\n",
       "    nullable double \"EffectiveDuration\"\n",
       "    nullable double \"OptionAdjustedSpread\"\n",
       "    _ String \"LegalEntity\"\n",
       "    _ String \"PortfolioTicker\"\n",
       "    _ String \"OwnershipType\"\n",
       "    nullable double \"PercentWeight\"\n",
       "  }\n",
       "```\n"
      ],
      "text/plain": [
       "erDiagram\n",
       "  \"vw_SampleData20240104\" {\n",
       "    _ LocalDate \"AsofDate\"\n",
       "    _ String \"CUSIP\"\n",
       "    _ String \"SectorCode\"\n",
       "    _ String \"Strategy\"\n",
       "    nullable double \"MarketValue\"\n",
       "    nullable double \"EffectiveDuration\"\n",
       "    nullable double \"OptionAdjustedSpread\"\n",
       "    _ String \"LegalEntity\"\n",
       "    _ String \"PortfolioTicker\"\n",
       "    _ String \"OwnershipType\"\n",
       "    nullable double \"PercentWeight\"\n",
       "  }"
      ]
     },
     "execution_count": 18,
     "metadata": {},
     "output_type": "execute_result"
    }
   ],
   "source": [
    "session.tables.schema"
   ]
  },
  {
   "cell_type": "markdown",
   "id": "87095bac-28a2-40af-b28f-61b07a1f7bb7",
   "metadata": {},
   "source": [
    "## Create Cube"
   ]
  },
  {
   "cell_type": "code",
   "execution_count": 19,
   "id": "9bc7795b-3279-40a7-b1ce-f449eacad957",
   "metadata": {},
   "outputs": [],
   "source": [
    "cube = session.create_cube(table_facts, name=\"facts\", mode=\"no_measures\")\n",
    "h, l, m = cube.hierarchies, cube.levels, cube.measures"
   ]
  },
  {
   "cell_type": "markdown",
   "id": "ffc144d3-6c7c-4a22-bb72-1a925b7878a9",
   "metadata": {},
   "source": [
    "### Clean Up Hierarchies"
   ]
  },
  {
   "cell_type": "code",
   "execution_count": 20,
   "id": "5eab9584-8e41-4079-9cc9-4d581be2c75c",
   "metadata": {
    "scrolled": true
   },
   "outputs": [],
   "source": [
    "# del(h['MarketValue'],h['EffectiveDuration'], h['OptionAdjustedSpread'], h['PercentWeight'])"
   ]
  },
  {
   "cell_type": "markdown",
   "id": "c272c770-066f-4be7-ba2e-989ccfbff594",
   "metadata": {},
   "source": [
    "## Add Measures"
   ]
  },
  {
   "cell_type": "code",
   "execution_count": 21,
   "id": "981e9ced-0b04-49e7-81b0-0473dba395ce",
   "metadata": {},
   "outputs": [
    {
     "name": "stdout",
     "output_type": "stream",
     "text": [
      "CPU times: user 3.16 ms, sys: 4.3 ms, total: 7.46 ms\n",
      "Wall time: 96.2 ms\n"
     ]
    }
   ],
   "source": [
    "%%time\n",
    "m[\"MarketValue\"] = tt.agg.sum(table_facts[\"MarketValue\"])\n",
    "m[\"EffectiveDuration\"] = tt.agg.sum(table_facts[\"EffectiveDuration\"])\n",
    "m[\"EffectiveDuration\"] = tt.agg.sum(table_facts[\"EffectiveDuration\"])\n",
    "m[\"OptionAdjustedSpread\"] = tt.agg.sum(table_facts[\"OptionAdjustedSpread\"])\n",
    "m[\"PercentWeight\"] = tt.agg.sum(table_facts[\"PercentWeight\"])"
   ]
  },
  {
   "cell_type": "code",
   "execution_count": 22,
   "id": "c5f03101-c69a-457d-8d36-dcc7cfbb6a7e",
   "metadata": {},
   "outputs": [
    {
     "name": "stdout",
     "output_type": "stream",
     "text": [
      "CPU times: user 4.82 ms, sys: 6.82 ms, total: 11.6 ms\n",
      "Wall time: 102 ms\n"
     ]
    }
   ],
   "source": [
    "%%time\n",
    "m[\"MV Duration\"] = tt.agg.sum_product(\n",
    "    table_facts[\"MarketValue\"],table_facts[\"EffectiveDuration\"],table_facts[\"PercentWeight\"])"
   ]
  },
  {
   "cell_type": "code",
   "execution_count": 23,
   "id": "f490f081-2ef6-4daf-b050-d607beda7e27",
   "metadata": {},
   "outputs": [
    {
     "name": "stdout",
     "output_type": "stream",
     "text": [
      "CPU times: user 2.55 ms, sys: 3.23 ms, total: 5.78 ms\n",
      "Wall time: 30.7 ms\n"
     ]
    }
   ],
   "source": [
    "%%time\n",
    "m[\"MV PercentWeight\"] = tt.agg.sum_product(table_facts[\"MarketValue\"],table_facts[\"PercentWeight\"])"
   ]
  },
  {
   "cell_type": "code",
   "execution_count": 24,
   "id": "2e709a21-b0ec-4b1c-abfd-cc3309a22f33",
   "metadata": {},
   "outputs": [
    {
     "name": "stdout",
     "output_type": "stream",
     "text": [
      "CPU times: user 3.27 ms, sys: 3.76 ms, total: 7.04 ms\n",
      "Wall time: 44.3 ms\n"
     ]
    }
   ],
   "source": [
    "%%time\n",
    "m[\"MV OAS\"] = tt.agg.sum_product(table_facts[\"MarketValue\"],table_facts[\"OptionAdjustedSpread\"],table_facts[\"PercentWeight\"])"
   ]
  },
  {
   "cell_type": "code",
   "execution_count": 25,
   "id": "63528e59-54fe-4c04-b5c3-faa28164c3fd",
   "metadata": {},
   "outputs": [
    {
     "name": "stdout",
     "output_type": "stream",
     "text": [
      "CPU times: user 7.93 ms, sys: 8.19 ms, total: 16.1 ms\n",
      "Wall time: 108 ms\n"
     ]
    }
   ],
   "source": [
    "%%time\n",
    "m[\"Weighted Average Duration\"] = tt.where(m[\"MV PercentWeight\"] == 0, 0, m[\"MV Duration\"]/m[\"MV PercentWeight\"])"
   ]
  },
  {
   "cell_type": "code",
   "execution_count": 26,
   "id": "716495fc-b4d9-452b-98a1-d63db41401a3",
   "metadata": {},
   "outputs": [
    {
     "name": "stdout",
     "output_type": "stream",
     "text": [
      "CPU times: user 2.72 ms, sys: 2.87 ms, total: 5.59 ms\n",
      "Wall time: 21.4 ms\n"
     ]
    }
   ],
   "source": [
    "%%time\n",
    "m[\"Weighted Average Duration OAS\"] = tt.where(m[\"MV PercentWeight\"] == 0, 0, m[\"MV OAS\"]/m[\"MV PercentWeight\"])"
   ]
  },
  {
   "cell_type": "markdown",
   "id": "669701b7-fc93-4835-86b5-c9dbd7be8a66",
   "metadata": {},
   "source": [
    "## Link to UI"
   ]
  },
  {
   "cell_type": "code",
   "execution_count": 27,
   "id": "886b6618-c11c-44f5-b963-d0a57b8ded44",
   "metadata": {},
   "outputs": [
    {
     "data": {
      "application/vnd.atoti.link.v0+json": {
       "path": "",
       "sessionLocation": {
        "https": false,
        "port": 9092
       }
      },
      "text/markdown": [
       "http://localhost:9092\n",
       "\n",
       "_Note_: This is the session's local URL: it may not be reachable if Atoti is running on another machine."
      ],
      "text/plain": [
       "http://localhost:9092 (This is the session's local URL: it may not be reachable if Atoti is running on another machine.)"
      ]
     },
     "execution_count": 27,
     "metadata": {},
     "output_type": "execute_result"
    }
   ],
   "source": [
    "session.link"
   ]
  }
 ],
 "metadata": {
  "kernelspec": {
   "display_name": "Python 3 (ipykernel)",
   "language": "python",
   "name": "python3"
  },
  "language_info": {
   "codemirror_mode": {
    "name": "ipython",
    "version": 3
   },
   "file_extension": ".py",
   "mimetype": "text/x-python",
   "name": "python",
   "nbconvert_exporter": "python",
   "pygments_lexer": "ipython3",
   "version": "3.12.3"
  }
 },
 "nbformat": 4,
 "nbformat_minor": 5
}
