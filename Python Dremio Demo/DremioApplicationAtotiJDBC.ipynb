{
 "cells": [
  {
   "cell_type": "markdown",
   "id": "a52bff83-6b89-4ffa-b714-62078f09fae9",
   "metadata": {},
   "source": [
    "# Dremio Test"
   ]
  },
  {
   "cell_type": "markdown",
   "id": "75f8c787-77b2-45e2-bf10-eed4c06a0703",
   "metadata": {},
   "source": [
    "## Setting up dremio\n"
   ]
  },
  {
   "cell_type": "markdown",
   "id": "a9a99865-82f7-43eb-9045-154f4bf3e536",
   "metadata": {},
   "source": [
    "## Imports"
   ]
  },
  {
   "cell_type": "code",
   "execution_count": 1,
   "id": "2399568a-4b30-4c39-8034-a93efa947bef",
   "metadata": {
    "tags": []
   },
   "outputs": [],
   "source": [
    "import os\n",
    "import sys\n",
    "import atoti as tt"
   ]
  },
  {
   "cell_type": "code",
   "execution_count": 2,
   "id": "b996e0bc-1038-44aa-8b34-07f0cf6fcef3",
   "metadata": {
    "tags": []
   },
   "outputs": [],
   "source": [
    "import pandas as pd"
   ]
  },
  {
   "cell_type": "markdown",
   "id": "054efd9c-face-417e-b013-9038da2863bf",
   "metadata": {},
   "source": [
    "Make sure you are running a version of atoti older than 0.8.10. This has been tested on 0.8.5"
   ]
  },
  {
   "cell_type": "code",
   "execution_count": 3,
   "id": "1fd36b55-fdbf-40da-a8a2-fa3eea299dac",
   "metadata": {
    "tags": []
   },
   "outputs": [
    {
     "data": {
      "text/plain": [
       "'0.9.0.20240507074627'"
      ]
     },
     "execution_count": 3,
     "metadata": {},
     "output_type": "execute_result"
    }
   ],
   "source": [
    "tt._version.VERSION"
   ]
  },
  {
   "cell_type": "markdown",
   "id": "e4e40804-a511-4eea-99ee-51d37796f8e4",
   "metadata": {},
   "source": [
    "### Jar Input"
   ]
  },
  {
   "cell_type": "code",
   "execution_count": 4,
   "id": "8314f653-ee30-42a0-b870-bd6c63e5e9b4",
   "metadata": {},
   "outputs": [],
   "source": [
    "dremio_driver_jar_v10=\"flight-sql-jdbc-driver-10.0.0.jar\"\n",
    "dremio_driver_jar_v15=\"flight-sql-jdbc-driver-15.0.0.jar\"\n",
    "dremio_driver_jar_legacy=\"dremio-jdbc-driver-24.3.2-202401241821100032-d2d8a497.jar\""
   ]
  },
  {
   "cell_type": "code",
   "execution_count": 5,
   "id": "3aed07f2-5c4f-4d47-830d-bf8fa39ee5b5",
   "metadata": {},
   "outputs": [],
   "source": [
    "dremio_driver_jar=dremio_driver_jar_v15"
   ]
  },
  {
   "cell_type": "markdown",
   "id": "c98a09ba-faea-4692-b359-3835a8decbfc",
   "metadata": {},
   "source": [
    "### SQL Setup"
   ]
  },
  {
   "cell_type": "code",
   "execution_count": 6,
   "id": "760dab1d-f68d-4e4a-a99b-fae7d49bf64e",
   "metadata": {
    "tags": []
   },
   "outputs": [],
   "source": [
    "schema_name='\"@admin\"'\n",
    "db_table_name='SampleData20240104'\n",
    "sql = f\"SELECT * FROM {schema_name}.{db_table_name}\""
   ]
  },
  {
   "cell_type": "markdown",
   "id": "55f1b384-46f2-461d-a3b0-973e18e8769a",
   "metadata": {},
   "source": [
    "### Database setup"
   ]
  },
  {
   "cell_type": "code",
   "execution_count": 7,
   "id": "27c5ec24-7f34-4413-981a-a1f0cb9cf372",
   "metadata": {
    "tags": []
   },
   "outputs": [],
   "source": [
    "username=\"admin\"\n",
    "password=\"admin01!\"\n",
    "host_name=\"localhost\"\n",
    "port=\"32010\"\n",
    "database = \"Dremio\"\n",
    "\n",
    "jdbc_legacy_url=f\"jdbc:dremio:direct={host_name}:31010?user={username}&password={password}&useEncryption=false\"\n",
    "jdbc_url = f\"jdbc:arrow-flight-sql://{host_name}:{port}?user={username}&password={password}&useEncryption=false\"\n",
    "\n",
    "jdbc_driver=\"org.apache.arrow.driver.jdbc.ArrowFlightJdbcDriver\"\n",
    "jdbc_legacy_driver=\"com.dremio.jdbc.Driver\"\n",
    "atoti_table_name=\"table_facts\""
   ]
  },
  {
   "cell_type": "code",
   "execution_count": 8,
   "id": "04405a51-cb8d-4931-a8e1-aa6c5bcbfd04",
   "metadata": {
    "tags": []
   },
   "outputs": [
    {
     "data": {
      "text/plain": [
       "'/Users/gpadya/Documents/dremio-driver/Python Dremio Demo'"
      ]
     },
     "execution_count": 8,
     "metadata": {},
     "output_type": "execute_result"
    }
   ],
   "source": [
    "os.getcwd()"
   ]
  },
  {
   "cell_type": "markdown",
   "id": "8d35aa6e-9c36-437e-be0b-f5ee0644cdfd",
   "metadata": {},
   "source": [
    "## Session"
   ]
  },
  {
   "cell_type": "code",
   "execution_count": 9,
   "id": "624f2cd6-9ac4-47db-94bb-c582369b1213",
   "metadata": {
    "tags": []
   },
   "outputs": [],
   "source": [
    "session = tt.Session(\n",
    "    port=9093,\n",
    "    user_content_storage = \"./Python Dremio Demo/content\",\n",
    "    # java_options=[\"-Dorg.springframework.boot.logging.LoggingSystem=none\"],\n",
    "    extra_jars=[f\"./utilities/extra_jars/{dremio_driver_jar}\"],\n",
    "    # app_extensions=tt.ADVANCED_APP_EXTENSION,\n",
    "    # logging=tt.LoggingConfig(destination=sys.stdout)\n",
    "    logging=tt.LoggingConfig(destination=\"./logging/server.log\")\n",
    ")"
   ]
  },
  {
   "cell_type": "markdown",
   "id": "0553b466-5a1c-4721-a720-f325f97f4284",
   "metadata": {},
   "source": [
    "## Load from Dremio"
   ]
  },
  {
   "cell_type": "markdown",
   "id": "0b6747d8-6163-42d0-a9de-7ad8bced2b43",
   "metadata": {},
   "source": [
    "#### Create table, then load"
   ]
  },
  {
   "cell_type": "code",
   "execution_count": 10,
   "id": "0bd851d0-0045-44db-96fb-fafc6212a95a",
   "metadata": {},
   "outputs": [],
   "source": [
    "table_facts_types= {\n",
    "    \"AsofDate\" : tt.LOCAL_DATE,\n",
    "    \"CUSIP\" : tt.STRING,\n",
    "    \"SectorCode\" : tt.STRING,\n",
    "    \"Strategy\" : tt.STRING,\n",
    "    \"MarketValue\" : tt.DOUBLE,\n",
    "    \"EffectiveDuration\" : tt.DOUBLE,\n",
    "    \"OptionAdjustedSpread\" : tt.DOUBLE,\n",
    "    \"LegalEntity\" : tt.STRING,\n",
    "    \"PortfolioTicker\" : tt.STRING,\n",
    "    \"OwnershipType\" : tt.STRING,\n",
    "    \"PercentWeight\" : tt.INT\n",
    "}"
   ]
  },
  {
   "cell_type": "markdown",
   "id": "aff542a1-f177-4ed5-88b9-416486583268",
   "metadata": {},
   "source": [
    "#### Load directly into new table, auto discover types"
   ]
  },
  {
   "cell_type": "code",
   "execution_count": 11,
   "id": "7420e357-1e2d-4f61-93ec-b4672ccf0a27",
   "metadata": {},
   "outputs": [
    {
     "name": "stdout",
     "output_type": "stream",
     "text": [
      "CPU times: user 13.2 ms, sys: 8.62 ms, total: 21.8 ms\n",
      "Wall time: 14.5 s\n"
     ]
    }
   ],
   "source": [
    "%%time\n",
    "table_facts=session.read_sql(sql,\n",
    "                url=jdbc_url, \n",
    "                driver=jdbc_driver,\n",
    "                table_name=atoti_table_name,\n",
    ")"
   ]
  },
  {
   "cell_type": "code",
   "execution_count": 12,
   "id": "31e29993-78a0-45ff-9969-888a3f52b1dd",
   "metadata": {},
   "outputs": [
    {
     "data": {
      "text/html": [
       "<div>\n",
       "<style scoped>\n",
       "    .dataframe tbody tr th:only-of-type {\n",
       "        vertical-align: middle;\n",
       "    }\n",
       "\n",
       "    .dataframe tbody tr th {\n",
       "        vertical-align: top;\n",
       "    }\n",
       "\n",
       "    .dataframe thead th {\n",
       "        text-align: right;\n",
       "    }\n",
       "</style>\n",
       "<table border=\"1\" class=\"dataframe\">\n",
       "  <thead>\n",
       "    <tr style=\"text-align: right;\">\n",
       "      <th></th>\n",
       "      <th>AsofDate</th>\n",
       "      <th>CUSIP</th>\n",
       "      <th>SectorCode</th>\n",
       "      <th>Strategy</th>\n",
       "      <th>MarketValue</th>\n",
       "      <th>EffectiveDuration</th>\n",
       "      <th>OptionAdjustedSpread</th>\n",
       "      <th>LegalEntity</th>\n",
       "      <th>PortfolioTicker</th>\n",
       "      <th>OwnershipType</th>\n",
       "      <th>PercentWeight</th>\n",
       "    </tr>\n",
       "  </thead>\n",
       "  <tbody>\n",
       "    <tr>\n",
       "      <th>0</th>\n",
       "      <td>2024-01-04 05:00:00</td>\n",
       "      <td>91282CFV8</td>\n",
       "      <td>Peaches</td>\n",
       "      <td>Paris</td>\n",
       "      <td>17042127.4</td>\n",
       "      <td>8.809704</td>\n",
       "      <td>3.81681</td>\n",
       "      <td>GEA_BM</td>\n",
       "      <td>NEABMLCWF</td>\n",
       "      <td>Active</td>\n",
       "      <td>1.0</td>\n",
       "    </tr>\n",
       "    <tr>\n",
       "      <th>1</th>\n",
       "      <td>2024-01-04 05:00:00</td>\n",
       "      <td>91282CEV9</td>\n",
       "      <td>Peaches</td>\n",
       "      <td>Paris</td>\n",
       "      <td>6743085.934</td>\n",
       "      <td>5.95656</td>\n",
       "      <td>0.0</td>\n",
       "      <td>GEA_BM</td>\n",
       "      <td>NEABMLCWF</td>\n",
       "      <td>Passive</td>\n",
       "      <td>1.0</td>\n",
       "    </tr>\n",
       "    <tr>\n",
       "      <th>2</th>\n",
       "      <td>2024-01-04 05:00:00</td>\n",
       "      <td>ZRW7M2C57</td>\n",
       "      <td>Apples</td>\n",
       "      <td>Paris</td>\n",
       "      <td>271606.116</td>\n",
       "      <td>0.12641</td>\n",
       "      <td>0.0</td>\n",
       "      <td>GEA_BM</td>\n",
       "      <td>NEABMLCWF</td>\n",
       "      <td>Passive</td>\n",
       "      <td>1.0</td>\n",
       "    </tr>\n",
       "    <tr>\n",
       "      <th>3</th>\n",
       "      <td>2024-01-04 05:00:00</td>\n",
       "      <td>91282CJQ5</td>\n",
       "      <td>Peaches</td>\n",
       "      <td>Paris</td>\n",
       "      <td>3449302.885</td>\n",
       "      <td>7.302708</td>\n",
       "      <td>0.1071</td>\n",
       "      <td>GEA_BM</td>\n",
       "      <td>NEABMLCWF</td>\n",
       "      <td>Passive</td>\n",
       "      <td>1.0</td>\n",
       "    </tr>\n",
       "    <tr>\n",
       "      <th>4</th>\n",
       "      <td>2024-01-04 05:00:00</td>\n",
       "      <td>91282CFK2</td>\n",
       "      <td>Peaches</td>\n",
       "      <td>Paris</td>\n",
       "      <td>4523996.094</td>\n",
       "      <td>1.9299</td>\n",
       "      <td>0.41751</td>\n",
       "      <td>GEA_BM</td>\n",
       "      <td>NEABMLCWF</td>\n",
       "      <td>Passive</td>\n",
       "      <td>1.0</td>\n",
       "    </tr>\n",
       "  </tbody>\n",
       "</table>\n",
       "</div>"
      ],
      "text/plain": [
       "             AsofDate      CUSIP SectorCode Strategy  MarketValue  \\\n",
       "0 2024-01-04 05:00:00  91282CFV8    Peaches    Paris   17042127.4   \n",
       "1 2024-01-04 05:00:00  91282CEV9    Peaches    Paris  6743085.934   \n",
       "2 2024-01-04 05:00:00  ZRW7M2C57     Apples    Paris   271606.116   \n",
       "3 2024-01-04 05:00:00  91282CJQ5    Peaches    Paris  3449302.885   \n",
       "4 2024-01-04 05:00:00  91282CFK2    Peaches    Paris  4523996.094   \n",
       "\n",
       "   EffectiveDuration  OptionAdjustedSpread LegalEntity PortfolioTicker  \\\n",
       "0           8.809704               3.81681      GEA_BM       NEABMLCWF   \n",
       "1            5.95656                   0.0      GEA_BM       NEABMLCWF   \n",
       "2            0.12641                   0.0      GEA_BM       NEABMLCWF   \n",
       "3           7.302708                0.1071      GEA_BM       NEABMLCWF   \n",
       "4             1.9299               0.41751      GEA_BM       NEABMLCWF   \n",
       "\n",
       "  OwnershipType  PercentWeight  \n",
       "0        Active            1.0  \n",
       "1       Passive            1.0  \n",
       "2       Passive            1.0  \n",
       "3       Passive            1.0  \n",
       "4       Passive            1.0  "
      ]
     },
     "execution_count": 12,
     "metadata": {},
     "output_type": "execute_result"
    }
   ],
   "source": [
    "table_facts.head()"
   ]
  },
  {
   "cell_type": "markdown",
   "id": "87095bac-28a2-40af-b28f-61b07a1f7bb7",
   "metadata": {},
   "source": [
    "## Create Cube"
   ]
  },
  {
   "cell_type": "code",
   "execution_count": 13,
   "id": "9bc7795b-3279-40a7-b1ce-f449eacad957",
   "metadata": {},
   "outputs": [],
   "source": [
    "cube = session.create_cube(table_facts, name=\"facts\", mode=\"no_measures\")\n",
    "h, l, m = cube.hierarchies, cube.levels, cube.measures"
   ]
  },
  {
   "cell_type": "code",
   "execution_count": 14,
   "id": "85c817bc-1fd5-4ef0-bb6b-4034e8563b1d",
   "metadata": {
    "scrolled": true
   },
   "outputs": [
    {
     "data": {
      "text/markdown": [
       "```mermaid\n",
       "erDiagram\n",
       "  \"table_facts\" {\n",
       "    _ LocalDateTime \"AsofDate\"\n",
       "    _ String \"CUSIP\"\n",
       "    _ String \"SectorCode\"\n",
       "    _ String \"Strategy\"\n",
       "    nullable double \"MarketValue\"\n",
       "    nullable double \"EffectiveDuration\"\n",
       "    nullable double \"OptionAdjustedSpread\"\n",
       "    _ String \"LegalEntity\"\n",
       "    _ String \"PortfolioTicker\"\n",
       "    _ String \"OwnershipType\"\n",
       "    nullable double \"PercentWeight\"\n",
       "  }\n",
       "```\n"
      ],
      "text/plain": [
       "erDiagram\n",
       "  \"table_facts\" {\n",
       "    _ LocalDateTime \"AsofDate\"\n",
       "    _ String \"CUSIP\"\n",
       "    _ String \"SectorCode\"\n",
       "    _ String \"Strategy\"\n",
       "    nullable double \"MarketValue\"\n",
       "    nullable double \"EffectiveDuration\"\n",
       "    nullable double \"OptionAdjustedSpread\"\n",
       "    _ String \"LegalEntity\"\n",
       "    _ String \"PortfolioTicker\"\n",
       "    _ String \"OwnershipType\"\n",
       "    nullable double \"PercentWeight\"\n",
       "  }"
      ]
     },
     "execution_count": 14,
     "metadata": {},
     "output_type": "execute_result"
    }
   ],
   "source": [
    "session.tables.schema"
   ]
  },
  {
   "cell_type": "markdown",
   "id": "ffc144d3-6c7c-4a22-bb72-1a925b7878a9",
   "metadata": {},
   "source": [
    "### Clean Up Hierarchies"
   ]
  },
  {
   "cell_type": "code",
   "execution_count": 15,
   "id": "5eab9584-8e41-4079-9cc9-4d581be2c75c",
   "metadata": {
    "scrolled": true
   },
   "outputs": [],
   "source": [
    "# del(h['MarketValue'],h['EffectiveDuration'], h['OptionAdjustedSpread'], h['PercentWeight'])"
   ]
  },
  {
   "cell_type": "markdown",
   "id": "c272c770-066f-4be7-ba2e-989ccfbff594",
   "metadata": {},
   "source": [
    "## Add Measures"
   ]
  },
  {
   "cell_type": "code",
   "execution_count": 16,
   "id": "981e9ced-0b04-49e7-81b0-0473dba395ce",
   "metadata": {},
   "outputs": [
    {
     "name": "stdout",
     "output_type": "stream",
     "text": [
      "CPU times: user 1.57 ms, sys: 1.52 ms, total: 3.08 ms\n",
      "Wall time: 48.7 ms\n"
     ]
    }
   ],
   "source": [
    "%%time\n",
    "m[\"MarketValue\"] = tt.agg.sum(table_facts[\"MarketValue\"])\n",
    "m[\"EffectiveDuration\"] = tt.agg.sum(table_facts[\"EffectiveDuration\"])\n",
    "m[\"EffectiveDuration\"] = tt.agg.sum(table_facts[\"EffectiveDuration\"])\n",
    "m[\"OptionAdjustedSpread\"] = tt.agg.sum(table_facts[\"OptionAdjustedSpread\"])\n",
    "m[\"PercentWeight\"] = tt.agg.sum(table_facts[\"PercentWeight\"])"
   ]
  },
  {
   "cell_type": "code",
   "execution_count": 17,
   "id": "c5f03101-c69a-457d-8d36-dcc7cfbb6a7e",
   "metadata": {},
   "outputs": [
    {
     "name": "stdout",
     "output_type": "stream",
     "text": [
      "CPU times: user 1.68 ms, sys: 2.04 ms, total: 3.73 ms\n",
      "Wall time: 28.1 ms\n"
     ]
    }
   ],
   "source": [
    "%%time\n",
    "m[\"MV Duration\"] = tt.agg.sum_product(\n",
    "    table_facts[\"MarketValue\"],table_facts[\"EffectiveDuration\"],table_facts[\"PercentWeight\"])"
   ]
  },
  {
   "cell_type": "code",
   "execution_count": 18,
   "id": "f490f081-2ef6-4daf-b050-d607beda7e27",
   "metadata": {},
   "outputs": [
    {
     "name": "stdout",
     "output_type": "stream",
     "text": [
      "CPU times: user 1.31 ms, sys: 1.73 ms, total: 3.04 ms\n",
      "Wall time: 19.2 ms\n"
     ]
    }
   ],
   "source": [
    "%%time\n",
    "m[\"MV PercentWeight\"] = tt.agg.sum_product(table_facts[\"MarketValue\"],table_facts[\"PercentWeight\"])"
   ]
  },
  {
   "cell_type": "code",
   "execution_count": 19,
   "id": "2e709a21-b0ec-4b1c-abfd-cc3309a22f33",
   "metadata": {},
   "outputs": [
    {
     "name": "stdout",
     "output_type": "stream",
     "text": [
      "CPU times: user 1.45 ms, sys: 2.04 ms, total: 3.5 ms\n",
      "Wall time: 23.6 ms\n"
     ]
    }
   ],
   "source": [
    "%%time\n",
    "m[\"MV OAS\"] = tt.agg.sum_product(table_facts[\"MarketValue\"],table_facts[\"OptionAdjustedSpread\"],table_facts[\"PercentWeight\"])"
   ]
  },
  {
   "cell_type": "code",
   "execution_count": 20,
   "id": "63528e59-54fe-4c04-b5c3-faa28164c3fd",
   "metadata": {},
   "outputs": [
    {
     "name": "stdout",
     "output_type": "stream",
     "text": [
      "CPU times: user 5.28 ms, sys: 2.5 ms, total: 7.78 ms\n",
      "Wall time: 84.9 ms\n"
     ]
    }
   ],
   "source": [
    "%%time\n",
    "m[\"Weighted Average Duration\"] = tt.where(m[\"MV PercentWeight\"] == 0, 0, m[\"MV Duration\"]/m[\"MV PercentWeight\"])"
   ]
  },
  {
   "cell_type": "code",
   "execution_count": 21,
   "id": "716495fc-b4d9-452b-98a1-d63db41401a3",
   "metadata": {},
   "outputs": [
    {
     "name": "stdout",
     "output_type": "stream",
     "text": [
      "CPU times: user 1.62 ms, sys: 2.09 ms, total: 3.71 ms\n",
      "Wall time: 16.5 ms\n"
     ]
    }
   ],
   "source": [
    "%%time\n",
    "m[\"Weighted Average Duration OAS\"] = tt.where(m[\"MV PercentWeight\"] == 0, 0, m[\"MV OAS\"]/m[\"MV PercentWeight\"])"
   ]
  },
  {
   "cell_type": "markdown",
   "id": "669701b7-fc93-4835-86b5-c9dbd7be8a66",
   "metadata": {},
   "source": [
    "## Link to UI"
   ]
  },
  {
   "cell_type": "code",
   "execution_count": 22,
   "id": "886b6618-c11c-44f5-b963-d0a57b8ded44",
   "metadata": {},
   "outputs": [
    {
     "data": {
      "application/vnd.atoti.link.v0+json": {
       "path": "",
       "sessionLocation": {
        "https": false,
        "port": 9093
       }
      },
      "text/markdown": [
       "http://localhost:9093\n",
       "\n",
       "_Note_: This is the session's local URL: it may not be reachable if Atoti is running on another machine."
      ],
      "text/plain": [
       "http://localhost:9093 (This is the session's local URL: it may not be reachable if Atoti is running on another machine.)"
      ]
     },
     "execution_count": 22,
     "metadata": {},
     "output_type": "execute_result"
    }
   ],
   "source": [
    "session.link"
   ]
  },
  {
   "cell_type": "code",
   "execution_count": null,
   "id": "f28f2a97-bd70-44a1-b6ac-e6b4b7e23c5e",
   "metadata": {},
   "outputs": [],
   "source": []
  },
  {
   "cell_type": "code",
   "execution_count": null,
   "id": "b8009c2a-0c31-4e9b-b38c-74ee429bb0e8",
   "metadata": {},
   "outputs": [],
   "source": []
  },
  {
   "cell_type": "code",
   "execution_count": null,
   "id": "5834d8b0-caeb-42b9-80a7-ae688905d848",
   "metadata": {},
   "outputs": [],
   "source": []
  }
 ],
 "metadata": {
  "kernelspec": {
   "display_name": "Python 3 (ipykernel)",
   "language": "python",
   "name": "python3"
  },
  "language_info": {
   "codemirror_mode": {
    "name": "ipython",
    "version": 3
   },
   "file_extension": ".py",
   "mimetype": "text/x-python",
   "name": "python",
   "nbconvert_exporter": "python",
   "pygments_lexer": "ipython3",
   "version": "3.12.3"
  }
 },
 "nbformat": 4,
 "nbformat_minor": 5
}
