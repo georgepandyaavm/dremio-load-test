{
 "cells": [
  {
   "cell_type": "markdown",
   "id": "a52bff83-6b89-4ffa-b714-62078f09fae9",
   "metadata": {},
   "source": [
    "# Dremio Test"
   ]
  },
  {
   "cell_type": "markdown",
   "id": "a9a99865-82f7-43eb-9045-154f4bf3e536",
   "metadata": {},
   "source": [
    "## Imports"
   ]
  },
  {
   "cell_type": "code",
   "execution_count": 1,
   "id": "2399568a-4b30-4c39-8034-a93efa947bef",
   "metadata": {
    "tags": []
   },
   "outputs": [],
   "source": [
    "import os\n",
    "import sys\n",
    "import atoti as tt"
   ]
  },
  {
   "cell_type": "code",
   "execution_count": 5,
   "id": "b996e0bc-1038-44aa-8b34-07f0cf6fcef3",
   "metadata": {
    "tags": []
   },
   "outputs": [],
   "source": [
    "import pandas as pd"
   ]
  },
  {
   "cell_type": "markdown",
   "id": "054efd9c-face-417e-b013-9038da2863bf",
   "metadata": {},
   "source": [
    "Make sure you are running a version of atoti older than 0.8.10. This has been tested on 0.8.5"
   ]
  },
  {
   "cell_type": "code",
   "execution_count": 2,
   "id": "1fd36b55-fdbf-40da-a8a2-fa3eea299dac",
   "metadata": {
    "tags": []
   },
   "outputs": [
    {
     "data": {
      "text/plain": [
       "'0.8.6'"
      ]
     },
     "execution_count": 2,
     "metadata": {},
     "output_type": "execute_result"
    }
   ],
   "source": [
    "tt._version.VERSION"
   ]
  },
  {
   "cell_type": "markdown",
   "id": "e4e40804-a511-4eea-99ee-51d37796f8e4",
   "metadata": {},
   "source": [
    "### Jar Input"
   ]
  },
  {
   "cell_type": "code",
   "execution_count": 3,
   "id": "8314f653-ee30-42a0-b870-bd6c63e5e9b4",
   "metadata": {},
   "outputs": [],
   "source": [
    "# dremio_driver_customized_jar = \"dremio-driver-1.0-SNAPSHOT-jar-with-dependencies.jar\"\n",
    "# dremio_driver_legacy_jar = \"dremio-jdbc-driver-1.0.8-201707190805180330-27f36e1.jar\"\n",
    "dremio_driver_jar=\"flight-sql-jdbc-driver-10.0.0.jar\""
   ]
  },
  {
   "cell_type": "markdown",
   "id": "c98a09ba-faea-4692-b359-3835a8decbfc",
   "metadata": {},
   "source": [
    "### SQL Setup"
   ]
  },
  {
   "cell_type": "code",
   "execution_count": 4,
   "id": "760dab1d-f68d-4e4a-a99b-fae7d49bf64e",
   "metadata": {
    "tags": []
   },
   "outputs": [],
   "source": [
    "schema_name='\"@admin\"'\n",
    "db_table_name='\"0_0_1\"'\n",
    "sql = f\"SELECT * FROM {schema_name}.{db_table_name}\"\n",
    "sql2 = f\"SELECT sens_dataset_status_dataset_name, amount FROM {schema_name}.{db_table_name}\""
   ]
  },
  {
   "cell_type": "markdown",
   "id": "55f1b384-46f2-461d-a3b0-973e18e8769a",
   "metadata": {},
   "source": [
    "### Database setup"
   ]
  },
  {
   "cell_type": "code",
   "execution_count": 6,
   "id": "27c5ec24-7f34-4413-981a-a1f0cb9cf372",
   "metadata": {
    "tags": []
   },
   "outputs": [],
   "source": [
    "username=\"admin\"\n",
    "password=\"admin01!\"\n",
    "host_name=\"localhost\"\n",
    "port=\"32010\"\n",
    "database = \"Dremio\"\n",
    "\n",
    "jdbc_legacy_url=f\"jdbc:dremio:direct={host_name}:31010\"\n",
    "jdbc_url = f\"jdbc:arrow-flight-sql://{host_name}:{port}?user={username}&password={password}&useEncryption=false\"\n",
    "\n",
    "jdbc_driver=\"org.apache.arrow.driver.jdbc.ArrowFlightJdbcDriver\"\n",
    "jdbc_legacy_driver=\"com.dremio.jdbc.Driver\"\n",
    "atoti_table_name=\"dremio_sample\""
   ]
  },
  {
   "cell_type": "code",
   "execution_count": 7,
   "id": "04405a51-cb8d-4931-a8e1-aa6c5bcbfd04",
   "metadata": {
    "tags": []
   },
   "outputs": [
    {
     "data": {
      "text/plain": [
       "'/Users/gpadya/Documents/dremio-driver/Python Dremio Demo'"
      ]
     },
     "execution_count": 7,
     "metadata": {},
     "output_type": "execute_result"
    }
   ],
   "source": [
    "os.getcwd()"
   ]
  },
  {
   "cell_type": "code",
   "execution_count": 8,
   "id": "624f2cd6-9ac4-47db-94bb-c582369b1213",
   "metadata": {
    "tags": []
   },
   "outputs": [],
   "source": [
    "session = tt.Session(\n",
    "    port=9092,\n",
    "    user_content_storage = \"./Python Dremio Demo/content\",\n",
    "    # java_options=[\"-Dorg.springframework.boot.logging.LoggingSystem=none\"],\n",
    "    extra_jars=[f\"./utilities/extra_jars/{dremio_driver_jar}\"],\n",
    "    # app_extensions=tt.ADVANCED_APP_EXTENSION,\n",
    "    # logging=tt.LoggingConfig(destination=sys.stdout)\n",
    "    logging=tt.LoggingConfig(destination=\"./logging/server.log\")\n",
    ")"
   ]
  },
  {
   "cell_type": "code",
   "execution_count": 9,
   "id": "74e59987-4262-413a-beb4-f8e28d376e56",
   "metadata": {
    "tags": []
   },
   "outputs": [],
   "source": [
    "# dremio_sample=session.create_table(\n",
    "#     name=atoti_table_name,\n",
    "#     types = {\"trade_dataset_id\":tt.INT, \"amount\": tt.DOUBLE}\n",
    "# )"
   ]
  },
  {
   "cell_type": "code",
   "execution_count": 10,
   "id": "2addf114-5ca0-4610-8588-8695bcc18a23",
   "metadata": {
    "tags": []
   },
   "outputs": [],
   "source": [
    "# session.tables"
   ]
  },
  {
   "cell_type": "code",
   "execution_count": 11,
   "id": "14c13d38-9888-496b-9a44-00d1ffd01d25",
   "metadata": {},
   "outputs": [],
   "source": [
    "# dremio_sample.load_sql(sql2,\n",
    "#                 url=jdbc_url, \n",
    "#                 driver=jdbc_driver)"
   ]
  },
  {
   "cell_type": "code",
   "execution_count": 12,
   "id": "7420e357-1e2d-4f61-93ec-b4672ccf0a27",
   "metadata": {},
   "outputs": [
    {
     "name": "stdout",
     "output_type": "stream",
     "text": [
      "CPU times: user 11.3 ms, sys: 5.97 ms, total: 17.3 ms\n",
      "Wall time: 11 s\n"
     ]
    }
   ],
   "source": [
    "%%time\n",
    "dremio_sample=session.read_sql(sql2,\n",
    "                url=jdbc_url, \n",
    "                driver=jdbc_driver,\n",
    "                table_name=atoti_table_name,\n",
    "                # types = {\"sens_dataset_status_dataset_name\":tt.STRING, \n",
    "                #          \"amount\": tt.DOUBLE}\n",
    "                \n",
    "                 )"
   ]
  },
  {
   "cell_type": "code",
   "execution_count": 13,
   "id": "31e29993-78a0-45ff-9969-888a3f52b1dd",
   "metadata": {},
   "outputs": [
    {
     "data": {
      "application/json": {
       "amount": {
        "default_value": "N/A",
        "key": false,
        "type": "Object"
       },
       "sens_dataset_status_dataset_name": {
        "default_value": "N/A",
        "key": false,
        "type": "Object"
       }
      },
      "text/html": [
       "<ul>\n",
       "<li>dremio_sample\n",
       "  <ul>\n",
       "  <li>sens_dataset_status_dataset_name\n",
       "    <ul>\n",
       "    <li>key: False</li>\n",
       "    <li>type: Object</li>\n",
       "    <li>default_value: N/A</li>\n",
       "    </ul>\n",
       "  </li>\n",
       "  <li>amount\n",
       "    <ul>\n",
       "    <li>key: False</li>\n",
       "    <li>type: Object</li>\n",
       "    <li>default_value: N/A</li>\n",
       "    </ul>\n",
       "  </li>\n",
       "  </ul>\n",
       "</li>\n",
       "</ul>\n"
      ],
      "text/plain": [
       "<atoti.table.Table at 0x108c90a10>"
      ]
     },
     "execution_count": 13,
     "metadata": {
      "application/json": {
       "expanded": true,
       "root": "dremio_sample"
      }
     },
     "output_type": "execute_result"
    }
   ],
   "source": [
    "dremio_sample"
   ]
  },
  {
   "cell_type": "code",
   "execution_count": 14,
   "id": "9bc7795b-3279-40a7-b1ce-f449eacad957",
   "metadata": {},
   "outputs": [
    {
     "data": {
      "application/json": {
       "Dimensions": {
        "dremio_sample": {
         "amount": [
          "amount"
         ],
         "sens_dataset_status_dataset_name": [
          "sens_dataset_status_dataset_name"
         ]
        }
       },
       "Measures": {
        "contributors.COUNT": {
         "formatter": "INT[#,###]"
        }
       }
      },
      "text/html": [
       "<ul>\n",
       "<li>dremio_sample\n",
       "  <ul>\n",
       "  <li>Dimensions\n",
       "    <ul>\n",
       "    <li>dremio_sample\n",
       "      <ul>\n",
       "      <li>amount\n",
       "        <ol>\n",
       "        <li>amount</li>\n",
       "        </ol>      </li>\n",
       "      <li>sens_dataset_status_dataset_name\n",
       "        <ol>\n",
       "        <li>sens_dataset_status_dataset_name</li>\n",
       "        </ol>      </li>\n",
       "      </ul>\n",
       "    </li>\n",
       "    </ul>\n",
       "  </li>\n",
       "  <li>Measures\n",
       "    <ul>\n",
       "    <li>contributors.COUNT\n",
       "      <ul>\n",
       "      <li>formatter: INT[#,###]</li>\n",
       "      </ul>\n",
       "    </li>\n",
       "    </ul>\n",
       "  </li>\n",
       "  </ul>\n",
       "</li>\n",
       "</ul>\n"
      ],
      "text/plain": [
       "<atoti.cube.Cube at 0x13c3a5b80>"
      ]
     },
     "execution_count": 14,
     "metadata": {
      "application/json": {
       "expanded": false,
       "root": "dremio_sample"
      }
     },
     "output_type": "execute_result"
    }
   ],
   "source": [
    "session.create_cube(dremio_sample)"
   ]
  },
  {
   "cell_type": "code",
   "execution_count": 15,
   "id": "981e9ced-0b04-49e7-81b0-0473dba395ce",
   "metadata": {
    "atoti": {
     "widget": {
      "mapping": {
       "columns": [],
       "measures": [],
       "rows": []
      },
      "query": {
       "mdx": "SELECT FROM [dremio_sample] CELL PROPERTIES VALUE, FORMATTED_VALUE, BACK_COLOR, FORE_COLOR, FONT_FLAGS",
       "updateMode": "once"
      },
      "serverKey": "default",
      "widgetKey": "pivot-table"
     }
    }
   },
   "outputs": [
    {
     "data": {
      "application/vnd.atoti.widget.v0+json": {
       "sessionId": "1710165671_0XUGK7",
       "sessionLocation": {
        "https": false,
        "port": 9092
       },
       "widgetCreationCode": "session.widget"
      },
      "text/html": [
       "<img height=\"352\" width=\"666\" src=\"data:image/png;base64,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\" />"
      ],
      "text/plain": [
       "Open the notebook in JupyterLab with the Atoti JupyterLab extension enabled to build this widget."
      ]
     },
     "metadata": {},
     "output_type": "display_data"
    }
   ],
   "source": [
    "session.widget"
   ]
  }
 ],
 "metadata": {
  "kernelspec": {
   "display_name": "Python 3 (ipykernel)",
   "language": "python",
   "name": "python3"
  },
  "language_info": {
   "codemirror_mode": {
    "name": "ipython",
    "version": 3
   },
   "file_extension": ".py",
   "mimetype": "text/x-python",
   "name": "python",
   "nbconvert_exporter": "python",
   "pygments_lexer": "ipython3",
   "version": "3.12.2"
  }
 },
 "nbformat": 4,
 "nbformat_minor": 5
}
