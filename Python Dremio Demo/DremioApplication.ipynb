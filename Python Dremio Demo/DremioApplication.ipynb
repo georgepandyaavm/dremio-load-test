{
 "cells": [
  {
   "cell_type": "code",
   "execution_count": 1,
   "id": "2399568a-4b30-4c39-8034-a93efa947bef",
   "metadata": {
    "tags": []
   },
   "outputs": [],
   "source": [
    "import os\n",
    "import sys\n",
    "import atoti as tt"
   ]
  },
  {
   "cell_type": "code",
   "execution_count": 2,
   "id": "1fd36b55-fdbf-40da-a8a2-fa3eea299dac",
   "metadata": {
    "tags": []
   },
   "outputs": [
    {
     "data": {
      "text/plain": [
       "'0.8.10'"
      ]
     },
     "execution_count": 2,
     "metadata": {},
     "output_type": "execute_result"
    }
   ],
   "source": [
    "tt._version.VERSION"
   ]
  },
  {
   "cell_type": "code",
   "execution_count": 18,
   "id": "8314f653-ee30-42a0-b870-bd6c63e5e9b4",
   "metadata": {},
   "outputs": [],
   "source": [
    "dremio_driver_customized_jar = \"dremio-driver-1.0-SNAPSHOT-jar-with-dependencies.jar\"\n",
    "dremio_driver_legacy_jar = \"dremio-jdbc-driver-1.0.8-201707190805180330-27f36e1.jar\"\n",
    "dremio_driver_jar=\"flight-sql-jdbc-driver-10.0.0.jar\""
   ]
  },
  {
   "cell_type": "code",
   "execution_count": 19,
   "id": "dd6a1630-9ce5-4995-8a8c-4d88e271d61f",
   "metadata": {
    "tags": []
   },
   "outputs": [],
   "source": [
    "import pyodbc\n",
    "import pandas as pd"
   ]
  },
  {
   "cell_type": "code",
   "execution_count": null,
   "id": "47f4af47-a829-48d6-9e00-eec2eec5d89f",
   "metadata": {},
   "outputs": [],
   "source": []
  },
  {
   "cell_type": "code",
   "execution_count": 20,
   "id": "760dab1d-f68d-4e4a-a99b-fae7d49bf64e",
   "metadata": {
    "tags": []
   },
   "outputs": [],
   "source": [
    "schema_name='\"@admin\"'\n",
    "db_table_name='\"0_0_1\"'\n",
    "sql = f\"SELECT * FROM {schema_name}.{db_table_name}\""
   ]
  },
  {
   "cell_type": "code",
   "execution_count": 21,
   "id": "27c5ec24-7f34-4413-981a-a1f0cb9cf372",
   "metadata": {
    "tags": []
   },
   "outputs": [],
   "source": [
    "username=\"admin\"\n",
    "password=\"admin\"\n",
    "host_name=\"localhost\"\n",
    "port=\"32010\"\n",
    "database = \"Dremio\"\n",
    "jdbc_url = f\"jdbc:arrow-flight-sql://{host_name}:{port}?user={username}&password={password}\"\n",
    "jdbc_driver=\"org.apache.arrow.driver.jdbc.ArrowFlightJdbcDriver\"\n",
    "jdbc_legacy_driver=\"com.dremio.jdbc.Driver\"\n",
    "atoti_table_name=\"dremio_sample\""
   ]
  },
  {
   "cell_type": "code",
   "execution_count": 14,
   "id": "1503baef-7de3-40bb-85df-ca9b144a5b90",
   "metadata": {
    "tags": []
   },
   "outputs": [],
   "source": [
    "odbc_driver='{Arrow Flight SQL ODBC DSN}'\n"
   ]
  },
  {
   "cell_type": "code",
   "execution_count": 15,
   "id": "c0810509-6623-4dd0-b80f-8953f0f068ae",
   "metadata": {
    "tags": []
   },
   "outputs": [
    {
     "ename": "Error",
     "evalue": "('01000', \"[01000] [unixODBC][Driver Manager]Can't open lib 'Arrow Flight SQL ODBC DSN' : file not found (0) (SQLDriverConnect)\")",
     "output_type": "error",
     "traceback": [
      "\u001b[0;31m---------------------------------------------------------------------------\u001b[0m",
      "\u001b[0;31mError\u001b[0m                                     Traceback (most recent call last)",
      "Cell \u001b[0;32mIn[15], line 3\u001b[0m\n\u001b[1;32m      1\u001b[0m \u001b[38;5;66;03m# Connecting to Dremio\u001b[39;00m\n\u001b[1;32m      2\u001b[0m conn_str \u001b[38;5;241m=\u001b[39m \u001b[38;5;124mf\u001b[39m\u001b[38;5;124m'\u001b[39m\u001b[38;5;124mDRIVER=\u001b[39m\u001b[38;5;132;01m{\u001b[39;00modbc_driver\u001b[38;5;132;01m}\u001b[39;00m\u001b[38;5;124m;SERVER=\u001b[39m\u001b[38;5;132;01m{\u001b[39;00mhost_name\u001b[38;5;132;01m}\u001b[39;00m\u001b[38;5;124m,\u001b[39m\u001b[38;5;132;01m{\u001b[39;00mport\u001b[38;5;132;01m}\u001b[39;00m\u001b[38;5;124m;DATABASE=\u001b[39m\u001b[38;5;132;01m{\u001b[39;00mdatabase\u001b[38;5;132;01m}\u001b[39;00m\u001b[38;5;124m;UID=\u001b[39m\u001b[38;5;132;01m{\u001b[39;00musername\u001b[38;5;132;01m}\u001b[39;00m\u001b[38;5;124m;PWD=\u001b[39m\u001b[38;5;132;01m{\u001b[39;00mpassword\u001b[38;5;132;01m}\u001b[39;00m\u001b[38;5;124m'\u001b[39m\n\u001b[0;32m----> 3\u001b[0m conn \u001b[38;5;241m=\u001b[39m pyodbc\u001b[38;5;241m.\u001b[39mconnect(conn_str)\n\u001b[1;32m      4\u001b[0m cursor \u001b[38;5;241m=\u001b[39m conn\u001b[38;5;241m.\u001b[39mcursor()\n",
      "\u001b[0;31mError\u001b[0m: ('01000', \"[01000] [unixODBC][Driver Manager]Can't open lib 'Arrow Flight SQL ODBC DSN' : file not found (0) (SQLDriverConnect)\")"
     ]
    }
   ],
   "source": [
    "# Connecting to Dremio\n",
    "conn_str = f'DRIVER={odbc_driver};SERVER={host_name},{port};DATABASE={database};UID={username};PWD={password}'\n",
    "conn = pyodbc.connect(conn_str)\n",
    "cursor = conn.cursor()"
   ]
  },
  {
   "cell_type": "code",
   "execution_count": 31,
   "id": "b8a625b2-6d7f-404d-9444-a2eaa2dc927e",
   "metadata": {
    "tags": []
   },
   "outputs": [],
   "source": [
    "import jaydebeapi\n",
    "import jpype"
   ]
  },
  {
   "cell_type": "code",
   "execution_count": 32,
   "id": "2be37947-eeb8-4c2f-b3fc-a1965aec09db",
   "metadata": {
    "tags": []
   },
   "outputs": [],
   "source": [
    "# Starting the JVM\n",
    "if not jpype.isJVMStarted():\n",
    "    jpype.startJVM(classpath=[dremio_driver_jar])"
   ]
  },
  {
   "cell_type": "code",
   "execution_count": 33,
   "id": "434ba343-d7e7-4f8a-92d6-3416c32baee5",
   "metadata": {
    "tags": []
   },
   "outputs": [
    {
     "ename": "TypeError",
     "evalue": "Class org.apache.arrow.driver.jdbc.ArrowFlightJdbcDriver is not found",
     "output_type": "error",
     "traceback": [
      "\u001b[0;31m---------------------------------------------------------------------------\u001b[0m",
      "\u001b[0;31mTypeError\u001b[0m                                 Traceback (most recent call last)",
      "Cell \u001b[0;32mIn[33], line 1\u001b[0m\n\u001b[0;32m----> 1\u001b[0m \u001b[38;5;28;01mwith\u001b[39;00m jaydebeapi\u001b[38;5;241m.\u001b[39mconnect(jdbc_driver,\n\u001b[1;32m      2\u001b[0m                           jdbc_url,\n\u001b[1;32m      3\u001b[0m                           [username, password],\n\u001b[1;32m      4\u001b[0m                           dremio_driver_jar) \u001b[38;5;28;01mas\u001b[39;00m conn:\n\u001b[1;32m      5\u001b[0m     \u001b[38;5;28;01mwith\u001b[39;00m conn\u001b[38;5;241m.\u001b[39mcursor() \u001b[38;5;28;01mas\u001b[39;00m curs:\n\u001b[1;32m      6\u001b[0m         data\u001b[38;5;241m=\u001b[39m curs\u001b[38;5;241m.\u001b[39mexecute(sql)\n",
      "File \u001b[0;32m~/anaconda3/lib/python3.11/site-packages/jaydebeapi/__init__.py:412\u001b[0m, in \u001b[0;36mconnect\u001b[0;34m(jclassname, url, driver_args, jars, libs)\u001b[0m\n\u001b[1;32m    410\u001b[0m \u001b[38;5;28;01melse\u001b[39;00m:\n\u001b[1;32m    411\u001b[0m     libs \u001b[38;5;241m=\u001b[39m []\n\u001b[0;32m--> 412\u001b[0m jconn \u001b[38;5;241m=\u001b[39m _jdbc_connect(jclassname, url, driver_args, jars, libs)\n\u001b[1;32m    413\u001b[0m \u001b[38;5;28;01mreturn\u001b[39;00m Connection(jconn, _converters)\n",
      "File \u001b[0;32m~/anaconda3/lib/python3.11/site-packages/jaydebeapi/__init__.py:221\u001b[0m, in \u001b[0;36m_jdbc_connect_jpype\u001b[0;34m(jclassname, url, driver_args, jars, libs)\u001b[0m\n\u001b[1;32m    219\u001b[0m         \u001b[38;5;28;01mreturn\u001b[39;00m jpype\u001b[38;5;241m.\u001b[39mJArray(jpype\u001b[38;5;241m.\u001b[39mJByte, \u001b[38;5;241m1\u001b[39m)(data)\n\u001b[1;32m    220\u001b[0m \u001b[38;5;66;03m# register driver for DriverManager\u001b[39;00m\n\u001b[0;32m--> 221\u001b[0m jpype\u001b[38;5;241m.\u001b[39mJClass(jclassname)\n\u001b[1;32m    222\u001b[0m \u001b[38;5;28;01mif\u001b[39;00m \u001b[38;5;28misinstance\u001b[39m(driver_args, \u001b[38;5;28mdict\u001b[39m):\n\u001b[1;32m    223\u001b[0m     Properties \u001b[38;5;241m=\u001b[39m jpype\u001b[38;5;241m.\u001b[39mjava\u001b[38;5;241m.\u001b[39mutil\u001b[38;5;241m.\u001b[39mProperties\n",
      "File \u001b[0;32m~/anaconda3/lib/python3.11/site-packages/jpype/_jclass.py:99\u001b[0m, in \u001b[0;36mJClass.__new__\u001b[0;34m(cls, jc, loader, initialize)\u001b[0m\n\u001b[1;32m     96\u001b[0m     \u001b[38;5;28;01mreturn\u001b[39;00m ret\n\u001b[1;32m     98\u001b[0m \u001b[38;5;66;03m# Pass to class factory to create the type\u001b[39;00m\n\u001b[0;32m---> 99\u001b[0m \u001b[38;5;28;01mreturn\u001b[39;00m _jpype\u001b[38;5;241m.\u001b[39m_getClass(jc)\n",
      "\u001b[0;31mTypeError\u001b[0m: Class org.apache.arrow.driver.jdbc.ArrowFlightJdbcDriver is not found"
     ]
    }
   ],
   "source": [
    "with jaydebeapi.connect(jdbc_driver,\n",
    "                          jdbc_url,\n",
    "                          [username, password],\n",
    "                          dremio_driver_jar) as conn:\n",
    "    with conn.cursor() as curs:\n",
    "        data= curs.execute(sql)\n",
    "        df-pd.DataFrame(data, columns=columns)"
   ]
  },
  {
   "cell_type": "code",
   "execution_count": null,
   "id": "624f2cd6-9ac4-47db-94bb-c582369b1213",
   "metadata": {
    "tags": []
   },
   "outputs": [],
   "source": [
    "session = tt.Session(\n",
    "    port=9092,\n",
    "    user_content_storage = \"./content\",\n",
    "    # extra_jars=[f\"./utilities/extra_jars/{dremio_driver_jar}\"],\n",
    "    # app_extensions=tt.ADVANCED_APP_EXTENSION,\n",
    "    # logging=tt.LoggingConfig(destination=sys.stdout)\n",
    "    # tt.LoggingConfig(destination=\"./logging/server.log\")\n",
    ")"
   ]
  },
  {
   "cell_type": "code",
   "execution_count": null,
   "id": "7f6b20ff-0902-4afb-866d-97eef3c7852f",
   "metadata": {},
   "outputs": [],
   "source": []
  },
  {
   "cell_type": "code",
   "execution_count": null,
   "id": "7420e357-1e2d-4f61-93ec-b4672ccf0a27",
   "metadata": {},
   "outputs": [],
   "source": [
    "session.read_sql(sql,\n",
    "                url=jdbc_url, \n",
    "                driver=jdbc_driver,\n",
    "                table_name=atoti_table_name\n",
    "                 )"
   ]
  },
  {
   "cell_type": "code",
   "execution_count": null,
   "id": "9bc7795b-3279-40a7-b1ce-f449eacad957",
   "metadata": {},
   "outputs": [],
   "source": []
  }
 ],
 "metadata": {
  "kernelspec": {
   "display_name": "Python 3 (ipykernel)",
   "language": "python",
   "name": "python3"
  },
  "language_info": {
   "codemirror_mode": {
    "name": "ipython",
    "version": 3
   },
   "file_extension": ".py",
   "mimetype": "text/x-python",
   "name": "python",
   "nbconvert_exporter": "python",
   "pygments_lexer": "ipython3",
   "version": "3.11.4"
  }
 },
 "nbformat": 4,
 "nbformat_minor": 5
}
